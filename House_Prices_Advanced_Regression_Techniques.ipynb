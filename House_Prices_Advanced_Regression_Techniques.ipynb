{
  "nbformat": 4,
  "nbformat_minor": 0,
  "metadata": {
    "colab": {
      "name": " House Prices: Advanced Regression Techniques.ipynb",
      "version": "0.3.2",
      "provenance": [],
      "collapsed_sections": [],
      "include_colab_link": true
    },
    "kernelspec": {
      "name": "python3",
      "display_name": "Python 3"
    },
    "accelerator": "GPU"
  },
  "cells": [
    {
      "cell_type": "markdown",
      "metadata": {
        "id": "view-in-github",
        "colab_type": "text"
      },
      "source": [
        "[View in Colaboratory](https://colab.research.google.com/github/starman3ch/kaggle-competitions-play-level/blob/master/House_Prices_Advanced_Regression_Techniques.ipynb)"
      ]
    },
    {
      "metadata": {
        "id": "bkZbkf5RldIZ",
        "colab_type": "code",
        "colab": {
          "base_uri": "https://localhost:8080/",
          "height": 128
        },
        "outputId": "eb5aa2fa-5e49-4c25-ba85-d7b0b5c4c1ff"
      },
      "cell_type": "code",
      "source": [
        "# Load the Drive helper and mount\n",
        "from google.colab import drive\n",
        "\n",
        "# This will prompt for authorization.\n",
        "drive.mount('/content/drive')"
      ],
      "execution_count": 0,
      "outputs": [
        {
          "output_type": "stream",
          "text": [
            "Go to this URL in a browser: https://accounts.google.com/o/oauth2/auth?client_id=947318989803-6bn6qk8qdgf4n4g3pfee6491hc0brc4i.apps.googleusercontent.com&redirect_uri=urn%3Aietf%3Awg%3Aoauth%3A2.0%3Aoob&scope=email%20https%3A%2F%2Fwww.googleapis.com%2Fauth%2Fdocs.test%20https%3A%2F%2Fwww.googleapis.com%2Fauth%2Fdrive%20https%3A%2F%2Fwww.googleapis.com%2Fauth%2Fdrive.photos.readonly%20https%3A%2F%2Fwww.googleapis.com%2Fauth%2Fpeopleapi.readonly&response_type=code\n",
            "\n",
            "Enter your authorization code:\n",
            "··········\n",
            "Mounted at /content/drive\n"
          ],
          "name": "stdout"
        }
      ]
    },
    {
      "metadata": {
        "id": "2i2p_r4Ylf5l",
        "colab_type": "code",
        "colab": {
          "base_uri": "https://localhost:8080/",
          "height": 35
        },
        "outputId": "3acf9ab0-5bc7-44d6-f3ad-63a16b8a8a2f"
      },
      "cell_type": "code",
      "source": [
        "# After executing the cell above, Drive\n",
        "# files will be present in \"/content/drive/My Drive\".\n",
        "!ls \"/content/drive/My Drive/Colab Notebooks/datasets/house prices\""
      ],
      "execution_count": 0,
      "outputs": [
        {
          "output_type": "stream",
          "text": [
            "test.csv  train.csv\n"
          ],
          "name": "stdout"
        }
      ]
    },
    {
      "metadata": {
        "id": "fufPLqzQloZc",
        "colab_type": "code",
        "colab": {}
      },
      "cell_type": "code",
      "source": [
        "TRAIN_CSV = '/content/drive/My Drive/Colab Notebooks/datasets/house prices/train.csv'\n",
        "# TEST_CSV = '/content/drive/My Drive/Colab Notebooks/datasets/house prices/test.csv'"
      ],
      "execution_count": 0,
      "outputs": []
    },
    {
      "metadata": {
        "id": "NeTisp8Tk5Rb",
        "colab_type": "text"
      },
      "cell_type": "markdown",
      "source": [
        "##Getting Started"
      ]
    },
    {
      "metadata": {
        "id": "XINRNRjIlCAG",
        "colab_type": "code",
        "colab": {}
      },
      "cell_type": "code",
      "source": [
        "import numpy as np\n",
        "import pandas as pd\n",
        "import matplotlib.pyplot as plt\n",
        "import seaborn as sns\n",
        "%matplotlib inline"
      ],
      "execution_count": 0,
      "outputs": []
    },
    {
      "metadata": {
        "id": "pc5YIyNRln2k",
        "colab_type": "code",
        "colab": {}
      },
      "cell_type": "code",
      "source": [
        "data = pd.read_csv(TRAIN_CSV)"
      ],
      "execution_count": 0,
      "outputs": []
    },
    {
      "metadata": {
        "id": "titO6_O_kNEA",
        "colab_type": "code",
        "colab": {}
      },
      "cell_type": "code",
      "source": [
        "# No need Id feature\n",
        "data.drop('Id', axis=1, inplace=True)"
      ],
      "execution_count": 0,
      "outputs": []
    },
    {
      "metadata": {
        "id": "TmvI3f12k4kT",
        "colab_type": "text"
      },
      "cell_type": "markdown",
      "source": [
        "##Data Exploration"
      ]
    },
    {
      "metadata": {
        "id": "kTEHeQA6BBN1",
        "colab_type": "code",
        "colab": {
          "base_uri": "https://localhost:8080/",
          "height": 35
        },
        "outputId": "76005d89-d524-403f-ebac-181175e9492c"
      },
      "cell_type": "code",
      "source": [
        "data.shape"
      ],
      "execution_count": 0,
      "outputs": [
        {
          "output_type": "execute_result",
          "data": {
            "text/plain": [
              "(1460, 80)"
            ]
          },
          "metadata": {
            "tags": []
          },
          "execution_count": 14
        }
      ]
    },
    {
      "metadata": {
        "id": "WL7nhYrdtkVs",
        "colab_type": "code",
        "colab": {
          "base_uri": "https://localhost:8080/",
          "height": 397
        },
        "outputId": "a7631e58-d319-4645-8f28-00c956dd08bb"
      },
      "cell_type": "code",
      "source": [
        "data.head(10)"
      ],
      "execution_count": 0,
      "outputs": [
        {
          "output_type": "execute_result",
          "data": {
            "text/html": [
              "<div>\n",
              "<style scoped>\n",
              "    .dataframe tbody tr th:only-of-type {\n",
              "        vertical-align: middle;\n",
              "    }\n",
              "\n",
              "    .dataframe tbody tr th {\n",
              "        vertical-align: top;\n",
              "    }\n",
              "\n",
              "    .dataframe thead th {\n",
              "        text-align: right;\n",
              "    }\n",
              "</style>\n",
              "<table border=\"1\" class=\"dataframe\">\n",
              "  <thead>\n",
              "    <tr style=\"text-align: right;\">\n",
              "      <th></th>\n",
              "      <th>MSSubClass</th>\n",
              "      <th>MSZoning</th>\n",
              "      <th>LotFrontage</th>\n",
              "      <th>LotArea</th>\n",
              "      <th>Street</th>\n",
              "      <th>Alley</th>\n",
              "      <th>LotShape</th>\n",
              "      <th>LandContour</th>\n",
              "      <th>Utilities</th>\n",
              "      <th>LotConfig</th>\n",
              "      <th>...</th>\n",
              "      <th>PoolArea</th>\n",
              "      <th>PoolQC</th>\n",
              "      <th>Fence</th>\n",
              "      <th>MiscFeature</th>\n",
              "      <th>MiscVal</th>\n",
              "      <th>MoSold</th>\n",
              "      <th>YrSold</th>\n",
              "      <th>SaleType</th>\n",
              "      <th>SaleCondition</th>\n",
              "      <th>SalePrice</th>\n",
              "    </tr>\n",
              "  </thead>\n",
              "  <tbody>\n",
              "    <tr>\n",
              "      <th>0</th>\n",
              "      <td>60</td>\n",
              "      <td>RL</td>\n",
              "      <td>65.0</td>\n",
              "      <td>8450</td>\n",
              "      <td>Pave</td>\n",
              "      <td>NaN</td>\n",
              "      <td>Reg</td>\n",
              "      <td>Lvl</td>\n",
              "      <td>AllPub</td>\n",
              "      <td>Inside</td>\n",
              "      <td>...</td>\n",
              "      <td>0</td>\n",
              "      <td>NaN</td>\n",
              "      <td>NaN</td>\n",
              "      <td>NaN</td>\n",
              "      <td>0</td>\n",
              "      <td>2</td>\n",
              "      <td>2008</td>\n",
              "      <td>WD</td>\n",
              "      <td>Normal</td>\n",
              "      <td>208500</td>\n",
              "    </tr>\n",
              "    <tr>\n",
              "      <th>1</th>\n",
              "      <td>20</td>\n",
              "      <td>RL</td>\n",
              "      <td>80.0</td>\n",
              "      <td>9600</td>\n",
              "      <td>Pave</td>\n",
              "      <td>NaN</td>\n",
              "      <td>Reg</td>\n",
              "      <td>Lvl</td>\n",
              "      <td>AllPub</td>\n",
              "      <td>FR2</td>\n",
              "      <td>...</td>\n",
              "      <td>0</td>\n",
              "      <td>NaN</td>\n",
              "      <td>NaN</td>\n",
              "      <td>NaN</td>\n",
              "      <td>0</td>\n",
              "      <td>5</td>\n",
              "      <td>2007</td>\n",
              "      <td>WD</td>\n",
              "      <td>Normal</td>\n",
              "      <td>181500</td>\n",
              "    </tr>\n",
              "    <tr>\n",
              "      <th>2</th>\n",
              "      <td>60</td>\n",
              "      <td>RL</td>\n",
              "      <td>68.0</td>\n",
              "      <td>11250</td>\n",
              "      <td>Pave</td>\n",
              "      <td>NaN</td>\n",
              "      <td>IR1</td>\n",
              "      <td>Lvl</td>\n",
              "      <td>AllPub</td>\n",
              "      <td>Inside</td>\n",
              "      <td>...</td>\n",
              "      <td>0</td>\n",
              "      <td>NaN</td>\n",
              "      <td>NaN</td>\n",
              "      <td>NaN</td>\n",
              "      <td>0</td>\n",
              "      <td>9</td>\n",
              "      <td>2008</td>\n",
              "      <td>WD</td>\n",
              "      <td>Normal</td>\n",
              "      <td>223500</td>\n",
              "    </tr>\n",
              "    <tr>\n",
              "      <th>3</th>\n",
              "      <td>70</td>\n",
              "      <td>RL</td>\n",
              "      <td>60.0</td>\n",
              "      <td>9550</td>\n",
              "      <td>Pave</td>\n",
              "      <td>NaN</td>\n",
              "      <td>IR1</td>\n",
              "      <td>Lvl</td>\n",
              "      <td>AllPub</td>\n",
              "      <td>Corner</td>\n",
              "      <td>...</td>\n",
              "      <td>0</td>\n",
              "      <td>NaN</td>\n",
              "      <td>NaN</td>\n",
              "      <td>NaN</td>\n",
              "      <td>0</td>\n",
              "      <td>2</td>\n",
              "      <td>2006</td>\n",
              "      <td>WD</td>\n",
              "      <td>Abnorml</td>\n",
              "      <td>140000</td>\n",
              "    </tr>\n",
              "    <tr>\n",
              "      <th>4</th>\n",
              "      <td>60</td>\n",
              "      <td>RL</td>\n",
              "      <td>84.0</td>\n",
              "      <td>14260</td>\n",
              "      <td>Pave</td>\n",
              "      <td>NaN</td>\n",
              "      <td>IR1</td>\n",
              "      <td>Lvl</td>\n",
              "      <td>AllPub</td>\n",
              "      <td>FR2</td>\n",
              "      <td>...</td>\n",
              "      <td>0</td>\n",
              "      <td>NaN</td>\n",
              "      <td>NaN</td>\n",
              "      <td>NaN</td>\n",
              "      <td>0</td>\n",
              "      <td>12</td>\n",
              "      <td>2008</td>\n",
              "      <td>WD</td>\n",
              "      <td>Normal</td>\n",
              "      <td>250000</td>\n",
              "    </tr>\n",
              "    <tr>\n",
              "      <th>5</th>\n",
              "      <td>50</td>\n",
              "      <td>RL</td>\n",
              "      <td>85.0</td>\n",
              "      <td>14115</td>\n",
              "      <td>Pave</td>\n",
              "      <td>NaN</td>\n",
              "      <td>IR1</td>\n",
              "      <td>Lvl</td>\n",
              "      <td>AllPub</td>\n",
              "      <td>Inside</td>\n",
              "      <td>...</td>\n",
              "      <td>0</td>\n",
              "      <td>NaN</td>\n",
              "      <td>MnPrv</td>\n",
              "      <td>Shed</td>\n",
              "      <td>700</td>\n",
              "      <td>10</td>\n",
              "      <td>2009</td>\n",
              "      <td>WD</td>\n",
              "      <td>Normal</td>\n",
              "      <td>143000</td>\n",
              "    </tr>\n",
              "    <tr>\n",
              "      <th>6</th>\n",
              "      <td>20</td>\n",
              "      <td>RL</td>\n",
              "      <td>75.0</td>\n",
              "      <td>10084</td>\n",
              "      <td>Pave</td>\n",
              "      <td>NaN</td>\n",
              "      <td>Reg</td>\n",
              "      <td>Lvl</td>\n",
              "      <td>AllPub</td>\n",
              "      <td>Inside</td>\n",
              "      <td>...</td>\n",
              "      <td>0</td>\n",
              "      <td>NaN</td>\n",
              "      <td>NaN</td>\n",
              "      <td>NaN</td>\n",
              "      <td>0</td>\n",
              "      <td>8</td>\n",
              "      <td>2007</td>\n",
              "      <td>WD</td>\n",
              "      <td>Normal</td>\n",
              "      <td>307000</td>\n",
              "    </tr>\n",
              "    <tr>\n",
              "      <th>7</th>\n",
              "      <td>60</td>\n",
              "      <td>RL</td>\n",
              "      <td>NaN</td>\n",
              "      <td>10382</td>\n",
              "      <td>Pave</td>\n",
              "      <td>NaN</td>\n",
              "      <td>IR1</td>\n",
              "      <td>Lvl</td>\n",
              "      <td>AllPub</td>\n",
              "      <td>Corner</td>\n",
              "      <td>...</td>\n",
              "      <td>0</td>\n",
              "      <td>NaN</td>\n",
              "      <td>NaN</td>\n",
              "      <td>Shed</td>\n",
              "      <td>350</td>\n",
              "      <td>11</td>\n",
              "      <td>2009</td>\n",
              "      <td>WD</td>\n",
              "      <td>Normal</td>\n",
              "      <td>200000</td>\n",
              "    </tr>\n",
              "    <tr>\n",
              "      <th>8</th>\n",
              "      <td>50</td>\n",
              "      <td>RM</td>\n",
              "      <td>51.0</td>\n",
              "      <td>6120</td>\n",
              "      <td>Pave</td>\n",
              "      <td>NaN</td>\n",
              "      <td>Reg</td>\n",
              "      <td>Lvl</td>\n",
              "      <td>AllPub</td>\n",
              "      <td>Inside</td>\n",
              "      <td>...</td>\n",
              "      <td>0</td>\n",
              "      <td>NaN</td>\n",
              "      <td>NaN</td>\n",
              "      <td>NaN</td>\n",
              "      <td>0</td>\n",
              "      <td>4</td>\n",
              "      <td>2008</td>\n",
              "      <td>WD</td>\n",
              "      <td>Abnorml</td>\n",
              "      <td>129900</td>\n",
              "    </tr>\n",
              "    <tr>\n",
              "      <th>9</th>\n",
              "      <td>190</td>\n",
              "      <td>RL</td>\n",
              "      <td>50.0</td>\n",
              "      <td>7420</td>\n",
              "      <td>Pave</td>\n",
              "      <td>NaN</td>\n",
              "      <td>Reg</td>\n",
              "      <td>Lvl</td>\n",
              "      <td>AllPub</td>\n",
              "      <td>Corner</td>\n",
              "      <td>...</td>\n",
              "      <td>0</td>\n",
              "      <td>NaN</td>\n",
              "      <td>NaN</td>\n",
              "      <td>NaN</td>\n",
              "      <td>0</td>\n",
              "      <td>1</td>\n",
              "      <td>2008</td>\n",
              "      <td>WD</td>\n",
              "      <td>Normal</td>\n",
              "      <td>118000</td>\n",
              "    </tr>\n",
              "  </tbody>\n",
              "</table>\n",
              "<p>10 rows × 80 columns</p>\n",
              "</div>"
            ],
            "text/plain": [
              "   MSSubClass MSZoning  LotFrontage  LotArea Street Alley LotShape  \\\n",
              "0          60       RL         65.0     8450   Pave   NaN      Reg   \n",
              "1          20       RL         80.0     9600   Pave   NaN      Reg   \n",
              "2          60       RL         68.0    11250   Pave   NaN      IR1   \n",
              "3          70       RL         60.0     9550   Pave   NaN      IR1   \n",
              "4          60       RL         84.0    14260   Pave   NaN      IR1   \n",
              "5          50       RL         85.0    14115   Pave   NaN      IR1   \n",
              "6          20       RL         75.0    10084   Pave   NaN      Reg   \n",
              "7          60       RL          NaN    10382   Pave   NaN      IR1   \n",
              "8          50       RM         51.0     6120   Pave   NaN      Reg   \n",
              "9         190       RL         50.0     7420   Pave   NaN      Reg   \n",
              "\n",
              "  LandContour Utilities LotConfig    ...     PoolArea PoolQC  Fence  \\\n",
              "0         Lvl    AllPub    Inside    ...            0    NaN    NaN   \n",
              "1         Lvl    AllPub       FR2    ...            0    NaN    NaN   \n",
              "2         Lvl    AllPub    Inside    ...            0    NaN    NaN   \n",
              "3         Lvl    AllPub    Corner    ...            0    NaN    NaN   \n",
              "4         Lvl    AllPub       FR2    ...            0    NaN    NaN   \n",
              "5         Lvl    AllPub    Inside    ...            0    NaN  MnPrv   \n",
              "6         Lvl    AllPub    Inside    ...            0    NaN    NaN   \n",
              "7         Lvl    AllPub    Corner    ...            0    NaN    NaN   \n",
              "8         Lvl    AllPub    Inside    ...            0    NaN    NaN   \n",
              "9         Lvl    AllPub    Corner    ...            0    NaN    NaN   \n",
              "\n",
              "  MiscFeature MiscVal MoSold  YrSold  SaleType  SaleCondition  SalePrice  \n",
              "0         NaN       0      2    2008        WD         Normal     208500  \n",
              "1         NaN       0      5    2007        WD         Normal     181500  \n",
              "2         NaN       0      9    2008        WD         Normal     223500  \n",
              "3         NaN       0      2    2006        WD        Abnorml     140000  \n",
              "4         NaN       0     12    2008        WD         Normal     250000  \n",
              "5        Shed     700     10    2009        WD         Normal     143000  \n",
              "6         NaN       0      8    2007        WD         Normal     307000  \n",
              "7        Shed     350     11    2009        WD         Normal     200000  \n",
              "8         NaN       0      4    2008        WD        Abnorml     129900  \n",
              "9         NaN       0      1    2008        WD         Normal     118000  \n",
              "\n",
              "[10 rows x 80 columns]"
            ]
          },
          "metadata": {
            "tags": []
          },
          "execution_count": 15
        }
      ]
    },
    {
      "metadata": {
        "id": "ZoXsGjCULtVQ",
        "colab_type": "code",
        "colab": {
          "base_uri": "https://localhost:8080/",
          "height": 1563
        },
        "outputId": "08552b6a-b4b9-4e35-e8d6-562ab064b427"
      },
      "cell_type": "code",
      "source": [
        "data.info()"
      ],
      "execution_count": 0,
      "outputs": [
        {
          "output_type": "stream",
          "text": [
            "<class 'pandas.core.frame.DataFrame'>\n",
            "RangeIndex: 1460 entries, 0 to 1459\n",
            "Data columns (total 80 columns):\n",
            "MSSubClass       1460 non-null int64\n",
            "MSZoning         1460 non-null object\n",
            "LotFrontage      1201 non-null float64\n",
            "LotArea          1460 non-null int64\n",
            "Street           1460 non-null object\n",
            "Alley            91 non-null object\n",
            "LotShape         1460 non-null object\n",
            "LandContour      1460 non-null object\n",
            "Utilities        1460 non-null object\n",
            "LotConfig        1460 non-null object\n",
            "LandSlope        1460 non-null object\n",
            "Neighborhood     1460 non-null object\n",
            "Condition1       1460 non-null object\n",
            "Condition2       1460 non-null object\n",
            "BldgType         1460 non-null object\n",
            "HouseStyle       1460 non-null object\n",
            "OverallQual      1460 non-null int64\n",
            "OverallCond      1460 non-null int64\n",
            "YearBuilt        1460 non-null int64\n",
            "YearRemodAdd     1460 non-null int64\n",
            "RoofStyle        1460 non-null object\n",
            "RoofMatl         1460 non-null object\n",
            "Exterior1st      1460 non-null object\n",
            "Exterior2nd      1460 non-null object\n",
            "MasVnrType       1452 non-null object\n",
            "MasVnrArea       1452 non-null float64\n",
            "ExterQual        1460 non-null object\n",
            "ExterCond        1460 non-null object\n",
            "Foundation       1460 non-null object\n",
            "BsmtQual         1423 non-null object\n",
            "BsmtCond         1423 non-null object\n",
            "BsmtExposure     1422 non-null object\n",
            "BsmtFinType1     1423 non-null object\n",
            "BsmtFinSF1       1460 non-null int64\n",
            "BsmtFinType2     1422 non-null object\n",
            "BsmtFinSF2       1460 non-null int64\n",
            "BsmtUnfSF        1460 non-null int64\n",
            "TotalBsmtSF      1460 non-null int64\n",
            "Heating          1460 non-null object\n",
            "HeatingQC        1460 non-null object\n",
            "CentralAir       1460 non-null object\n",
            "Electrical       1459 non-null object\n",
            "1stFlrSF         1460 non-null int64\n",
            "2ndFlrSF         1460 non-null int64\n",
            "LowQualFinSF     1460 non-null int64\n",
            "GrLivArea        1460 non-null int64\n",
            "BsmtFullBath     1460 non-null int64\n",
            "BsmtHalfBath     1460 non-null int64\n",
            "FullBath         1460 non-null int64\n",
            "HalfBath         1460 non-null int64\n",
            "BedroomAbvGr     1460 non-null int64\n",
            "KitchenAbvGr     1460 non-null int64\n",
            "KitchenQual      1460 non-null object\n",
            "TotRmsAbvGrd     1460 non-null int64\n",
            "Functional       1460 non-null object\n",
            "Fireplaces       1460 non-null int64\n",
            "FireplaceQu      770 non-null object\n",
            "GarageType       1379 non-null object\n",
            "GarageYrBlt      1379 non-null float64\n",
            "GarageFinish     1379 non-null object\n",
            "GarageCars       1460 non-null int64\n",
            "GarageArea       1460 non-null int64\n",
            "GarageQual       1379 non-null object\n",
            "GarageCond       1379 non-null object\n",
            "PavedDrive       1460 non-null object\n",
            "WoodDeckSF       1460 non-null int64\n",
            "OpenPorchSF      1460 non-null int64\n",
            "EnclosedPorch    1460 non-null int64\n",
            "3SsnPorch        1460 non-null int64\n",
            "ScreenPorch      1460 non-null int64\n",
            "PoolArea         1460 non-null int64\n",
            "PoolQC           7 non-null object\n",
            "Fence            281 non-null object\n",
            "MiscFeature      54 non-null object\n",
            "MiscVal          1460 non-null int64\n",
            "MoSold           1460 non-null int64\n",
            "YrSold           1460 non-null int64\n",
            "SaleType         1460 non-null object\n",
            "SaleCondition    1460 non-null object\n",
            "SalePrice        1460 non-null int64\n",
            "dtypes: float64(3), int64(34), object(43)\n",
            "memory usage: 912.6+ KB\n"
          ],
          "name": "stdout"
        }
      ]
    },
    {
      "metadata": {
        "id": "3LUG7tRq564b",
        "colab_type": "code",
        "colab": {
          "base_uri": "https://localhost:8080/",
          "height": 337
        },
        "outputId": "290883ea-f2be-4f92-d0a7-82902292dd54"
      },
      "cell_type": "code",
      "source": [
        "data.describe()"
      ],
      "execution_count": 0,
      "outputs": [
        {
          "output_type": "execute_result",
          "data": {
            "text/html": [
              "<div>\n",
              "<style scoped>\n",
              "    .dataframe tbody tr th:only-of-type {\n",
              "        vertical-align: middle;\n",
              "    }\n",
              "\n",
              "    .dataframe tbody tr th {\n",
              "        vertical-align: top;\n",
              "    }\n",
              "\n",
              "    .dataframe thead th {\n",
              "        text-align: right;\n",
              "    }\n",
              "</style>\n",
              "<table border=\"1\" class=\"dataframe\">\n",
              "  <thead>\n",
              "    <tr style=\"text-align: right;\">\n",
              "      <th></th>\n",
              "      <th>MSSubClass</th>\n",
              "      <th>LotFrontage</th>\n",
              "      <th>LotArea</th>\n",
              "      <th>OverallQual</th>\n",
              "      <th>OverallCond</th>\n",
              "      <th>YearBuilt</th>\n",
              "      <th>YearRemodAdd</th>\n",
              "      <th>MasVnrArea</th>\n",
              "      <th>BsmtFinSF1</th>\n",
              "      <th>BsmtFinSF2</th>\n",
              "      <th>...</th>\n",
              "      <th>WoodDeckSF</th>\n",
              "      <th>OpenPorchSF</th>\n",
              "      <th>EnclosedPorch</th>\n",
              "      <th>3SsnPorch</th>\n",
              "      <th>ScreenPorch</th>\n",
              "      <th>PoolArea</th>\n",
              "      <th>MiscVal</th>\n",
              "      <th>MoSold</th>\n",
              "      <th>YrSold</th>\n",
              "      <th>SalePrice</th>\n",
              "    </tr>\n",
              "  </thead>\n",
              "  <tbody>\n",
              "    <tr>\n",
              "      <th>count</th>\n",
              "      <td>1460.000000</td>\n",
              "      <td>1201.000000</td>\n",
              "      <td>1460.000000</td>\n",
              "      <td>1460.000000</td>\n",
              "      <td>1460.000000</td>\n",
              "      <td>1460.000000</td>\n",
              "      <td>1460.000000</td>\n",
              "      <td>1452.000000</td>\n",
              "      <td>1460.000000</td>\n",
              "      <td>1460.000000</td>\n",
              "      <td>...</td>\n",
              "      <td>1460.000000</td>\n",
              "      <td>1460.000000</td>\n",
              "      <td>1460.000000</td>\n",
              "      <td>1460.000000</td>\n",
              "      <td>1460.000000</td>\n",
              "      <td>1460.000000</td>\n",
              "      <td>1460.000000</td>\n",
              "      <td>1460.000000</td>\n",
              "      <td>1460.000000</td>\n",
              "      <td>1460.000000</td>\n",
              "    </tr>\n",
              "    <tr>\n",
              "      <th>mean</th>\n",
              "      <td>56.897260</td>\n",
              "      <td>70.049958</td>\n",
              "      <td>10516.828082</td>\n",
              "      <td>6.099315</td>\n",
              "      <td>5.575342</td>\n",
              "      <td>1971.267808</td>\n",
              "      <td>1984.865753</td>\n",
              "      <td>103.685262</td>\n",
              "      <td>443.639726</td>\n",
              "      <td>46.549315</td>\n",
              "      <td>...</td>\n",
              "      <td>94.244521</td>\n",
              "      <td>46.660274</td>\n",
              "      <td>21.954110</td>\n",
              "      <td>3.409589</td>\n",
              "      <td>15.060959</td>\n",
              "      <td>2.758904</td>\n",
              "      <td>43.489041</td>\n",
              "      <td>6.321918</td>\n",
              "      <td>2007.815753</td>\n",
              "      <td>180921.195890</td>\n",
              "    </tr>\n",
              "    <tr>\n",
              "      <th>std</th>\n",
              "      <td>42.300571</td>\n",
              "      <td>24.284752</td>\n",
              "      <td>9981.264932</td>\n",
              "      <td>1.382997</td>\n",
              "      <td>1.112799</td>\n",
              "      <td>30.202904</td>\n",
              "      <td>20.645407</td>\n",
              "      <td>181.066207</td>\n",
              "      <td>456.098091</td>\n",
              "      <td>161.319273</td>\n",
              "      <td>...</td>\n",
              "      <td>125.338794</td>\n",
              "      <td>66.256028</td>\n",
              "      <td>61.119149</td>\n",
              "      <td>29.317331</td>\n",
              "      <td>55.757415</td>\n",
              "      <td>40.177307</td>\n",
              "      <td>496.123024</td>\n",
              "      <td>2.703626</td>\n",
              "      <td>1.328095</td>\n",
              "      <td>79442.502883</td>\n",
              "    </tr>\n",
              "    <tr>\n",
              "      <th>min</th>\n",
              "      <td>20.000000</td>\n",
              "      <td>21.000000</td>\n",
              "      <td>1300.000000</td>\n",
              "      <td>1.000000</td>\n",
              "      <td>1.000000</td>\n",
              "      <td>1872.000000</td>\n",
              "      <td>1950.000000</td>\n",
              "      <td>0.000000</td>\n",
              "      <td>0.000000</td>\n",
              "      <td>0.000000</td>\n",
              "      <td>...</td>\n",
              "      <td>0.000000</td>\n",
              "      <td>0.000000</td>\n",
              "      <td>0.000000</td>\n",
              "      <td>0.000000</td>\n",
              "      <td>0.000000</td>\n",
              "      <td>0.000000</td>\n",
              "      <td>0.000000</td>\n",
              "      <td>1.000000</td>\n",
              "      <td>2006.000000</td>\n",
              "      <td>34900.000000</td>\n",
              "    </tr>\n",
              "    <tr>\n",
              "      <th>25%</th>\n",
              "      <td>20.000000</td>\n",
              "      <td>59.000000</td>\n",
              "      <td>7553.500000</td>\n",
              "      <td>5.000000</td>\n",
              "      <td>5.000000</td>\n",
              "      <td>1954.000000</td>\n",
              "      <td>1967.000000</td>\n",
              "      <td>0.000000</td>\n",
              "      <td>0.000000</td>\n",
              "      <td>0.000000</td>\n",
              "      <td>...</td>\n",
              "      <td>0.000000</td>\n",
              "      <td>0.000000</td>\n",
              "      <td>0.000000</td>\n",
              "      <td>0.000000</td>\n",
              "      <td>0.000000</td>\n",
              "      <td>0.000000</td>\n",
              "      <td>0.000000</td>\n",
              "      <td>5.000000</td>\n",
              "      <td>2007.000000</td>\n",
              "      <td>129975.000000</td>\n",
              "    </tr>\n",
              "    <tr>\n",
              "      <th>50%</th>\n",
              "      <td>50.000000</td>\n",
              "      <td>69.000000</td>\n",
              "      <td>9478.500000</td>\n",
              "      <td>6.000000</td>\n",
              "      <td>5.000000</td>\n",
              "      <td>1973.000000</td>\n",
              "      <td>1994.000000</td>\n",
              "      <td>0.000000</td>\n",
              "      <td>383.500000</td>\n",
              "      <td>0.000000</td>\n",
              "      <td>...</td>\n",
              "      <td>0.000000</td>\n",
              "      <td>25.000000</td>\n",
              "      <td>0.000000</td>\n",
              "      <td>0.000000</td>\n",
              "      <td>0.000000</td>\n",
              "      <td>0.000000</td>\n",
              "      <td>0.000000</td>\n",
              "      <td>6.000000</td>\n",
              "      <td>2008.000000</td>\n",
              "      <td>163000.000000</td>\n",
              "    </tr>\n",
              "    <tr>\n",
              "      <th>75%</th>\n",
              "      <td>70.000000</td>\n",
              "      <td>80.000000</td>\n",
              "      <td>11601.500000</td>\n",
              "      <td>7.000000</td>\n",
              "      <td>6.000000</td>\n",
              "      <td>2000.000000</td>\n",
              "      <td>2004.000000</td>\n",
              "      <td>166.000000</td>\n",
              "      <td>712.250000</td>\n",
              "      <td>0.000000</td>\n",
              "      <td>...</td>\n",
              "      <td>168.000000</td>\n",
              "      <td>68.000000</td>\n",
              "      <td>0.000000</td>\n",
              "      <td>0.000000</td>\n",
              "      <td>0.000000</td>\n",
              "      <td>0.000000</td>\n",
              "      <td>0.000000</td>\n",
              "      <td>8.000000</td>\n",
              "      <td>2009.000000</td>\n",
              "      <td>214000.000000</td>\n",
              "    </tr>\n",
              "    <tr>\n",
              "      <th>max</th>\n",
              "      <td>190.000000</td>\n",
              "      <td>313.000000</td>\n",
              "      <td>215245.000000</td>\n",
              "      <td>10.000000</td>\n",
              "      <td>9.000000</td>\n",
              "      <td>2010.000000</td>\n",
              "      <td>2010.000000</td>\n",
              "      <td>1600.000000</td>\n",
              "      <td>5644.000000</td>\n",
              "      <td>1474.000000</td>\n",
              "      <td>...</td>\n",
              "      <td>857.000000</td>\n",
              "      <td>547.000000</td>\n",
              "      <td>552.000000</td>\n",
              "      <td>508.000000</td>\n",
              "      <td>480.000000</td>\n",
              "      <td>738.000000</td>\n",
              "      <td>15500.000000</td>\n",
              "      <td>12.000000</td>\n",
              "      <td>2010.000000</td>\n",
              "      <td>755000.000000</td>\n",
              "    </tr>\n",
              "  </tbody>\n",
              "</table>\n",
              "<p>8 rows × 37 columns</p>\n",
              "</div>"
            ],
            "text/plain": [
              "        MSSubClass  LotFrontage        LotArea  OverallQual  OverallCond  \\\n",
              "count  1460.000000  1201.000000    1460.000000  1460.000000  1460.000000   \n",
              "mean     56.897260    70.049958   10516.828082     6.099315     5.575342   \n",
              "std      42.300571    24.284752    9981.264932     1.382997     1.112799   \n",
              "min      20.000000    21.000000    1300.000000     1.000000     1.000000   \n",
              "25%      20.000000    59.000000    7553.500000     5.000000     5.000000   \n",
              "50%      50.000000    69.000000    9478.500000     6.000000     5.000000   \n",
              "75%      70.000000    80.000000   11601.500000     7.000000     6.000000   \n",
              "max     190.000000   313.000000  215245.000000    10.000000     9.000000   \n",
              "\n",
              "         YearBuilt  YearRemodAdd   MasVnrArea   BsmtFinSF1   BsmtFinSF2  \\\n",
              "count  1460.000000   1460.000000  1452.000000  1460.000000  1460.000000   \n",
              "mean   1971.267808   1984.865753   103.685262   443.639726    46.549315   \n",
              "std      30.202904     20.645407   181.066207   456.098091   161.319273   \n",
              "min    1872.000000   1950.000000     0.000000     0.000000     0.000000   \n",
              "25%    1954.000000   1967.000000     0.000000     0.000000     0.000000   \n",
              "50%    1973.000000   1994.000000     0.000000   383.500000     0.000000   \n",
              "75%    2000.000000   2004.000000   166.000000   712.250000     0.000000   \n",
              "max    2010.000000   2010.000000  1600.000000  5644.000000  1474.000000   \n",
              "\n",
              "           ...         WoodDeckSF  OpenPorchSF  EnclosedPorch    3SsnPorch  \\\n",
              "count      ...        1460.000000  1460.000000    1460.000000  1460.000000   \n",
              "mean       ...          94.244521    46.660274      21.954110     3.409589   \n",
              "std        ...         125.338794    66.256028      61.119149    29.317331   \n",
              "min        ...           0.000000     0.000000       0.000000     0.000000   \n",
              "25%        ...           0.000000     0.000000       0.000000     0.000000   \n",
              "50%        ...           0.000000    25.000000       0.000000     0.000000   \n",
              "75%        ...         168.000000    68.000000       0.000000     0.000000   \n",
              "max        ...         857.000000   547.000000     552.000000   508.000000   \n",
              "\n",
              "       ScreenPorch     PoolArea       MiscVal       MoSold       YrSold  \\\n",
              "count  1460.000000  1460.000000   1460.000000  1460.000000  1460.000000   \n",
              "mean     15.060959     2.758904     43.489041     6.321918  2007.815753   \n",
              "std      55.757415    40.177307    496.123024     2.703626     1.328095   \n",
              "min       0.000000     0.000000      0.000000     1.000000  2006.000000   \n",
              "25%       0.000000     0.000000      0.000000     5.000000  2007.000000   \n",
              "50%       0.000000     0.000000      0.000000     6.000000  2008.000000   \n",
              "75%       0.000000     0.000000      0.000000     8.000000  2009.000000   \n",
              "max     480.000000   738.000000  15500.000000    12.000000  2010.000000   \n",
              "\n",
              "           SalePrice  \n",
              "count    1460.000000  \n",
              "mean   180921.195890  \n",
              "std     79442.502883  \n",
              "min     34900.000000  \n",
              "25%    129975.000000  \n",
              "50%    163000.000000  \n",
              "75%    214000.000000  \n",
              "max    755000.000000  \n",
              "\n",
              "[8 rows x 37 columns]"
            ]
          },
          "metadata": {
            "tags": []
          },
          "execution_count": 17
        }
      ]
    },
    {
      "metadata": {
        "id": "nL_teQEW6D27",
        "colab_type": "code",
        "colab": {
          "base_uri": "https://localhost:8080/",
          "height": 181
        },
        "outputId": "2d99f760-13d1-4316-ff2a-7622d34f91e3"
      },
      "cell_type": "code",
      "source": [
        "price = data['SalePrice']\n",
        "\n",
        "price.describe()"
      ],
      "execution_count": 0,
      "outputs": [
        {
          "output_type": "execute_result",
          "data": {
            "text/plain": [
              "count      1460.000000\n",
              "mean     180921.195890\n",
              "std       79442.502883\n",
              "min       34900.000000\n",
              "25%      129975.000000\n",
              "50%      163000.000000\n",
              "75%      214000.000000\n",
              "max      755000.000000\n",
              "Name: SalePrice, dtype: float64"
            ]
          },
          "metadata": {
            "tags": []
          },
          "execution_count": 18
        }
      ]
    },
    {
      "metadata": {
        "id": "p_Qzz7_Y_Q5b",
        "colab_type": "code",
        "colab": {
          "base_uri": "https://localhost:8080/",
          "height": 315
        },
        "outputId": "94ea4be4-cd2b-4099-a4ce-cb74f9587698"
      },
      "cell_type": "code",
      "source": [
        "sns.distplot(price)\n",
        "print(\"Prices Skewness: {:.6f}\".format(price.skew()))\n",
        "print(\"Prices Kurtosis: {:.6f}\".format(price.kurt()))"
      ],
      "execution_count": 0,
      "outputs": [
        {
          "output_type": "stream",
          "text": [
            "Prices Skewness: 1.882876\n",
            "Prices Kurtosis: 6.536282\n"
          ],
          "name": "stdout"
        },
        {
          "output_type": "display_data",
          "data": {
            "image/png": "[encoded data removed]",
            "text/plain": [
              "<matplotlib.figure.Figure at 0x7f608179d198>"
            ]
          },
          "metadata": {
            "tags": []
          }
        }
      ]
    },
    {
      "metadata": {
        "id": "FLMVjNQ5AV_j",
        "colab_type": "code",
        "colab": {
          "base_uri": "https://localhost:8080/",
          "height": 315
        },
        "outputId": "06a0c4f5-2f56-4ef1-a714-5796b82f39fc"
      },
      "cell_type": "code",
      "source": [
        "price_log = np.log1p(price)\n",
        "sns.distplot(price_log)\n",
        "print(\"Prices Log Skewness: {:.6f}\".format(price_log.skew()))\n",
        "print(\"Prices Log Kurtosis: {:.6f}\".format(price_log.kurt()))"
      ],
      "execution_count": 0,
      "outputs": [
        {
          "output_type": "stream",
          "text": [
            "Prices Log Skewness: 0.121347\n",
            "Prices Log Kurtosis: 0.809519\n"
          ],
          "name": "stdout"
        },
        {
          "output_type": "display_data",
          "data": {
            "image/png": "[encoded data removed]",
            "text/plain": [
              "<matplotlib.figure.Figure at 0x7f6081683128>"
            ]
          },
          "metadata": {
            "tags": []
          }
        }
      ]
    },
    {
      "metadata": {
        "id": "rbU_aVk5BKKW",
        "colab_type": "text"
      },
      "cell_type": "markdown",
      "source": [
        "####Numerical and Categorical features"
      ]
    },
    {
      "metadata": {
        "id": "K1H_GwH4BO8q",
        "colab_type": "code",
        "colab": {}
      },
      "cell_type": "code",
      "source": [
        "numerical_feats = data.dtypes[data.dtypes != \"object\"]\n",
        "\n",
        "categorical_feats = data.dtypes[data.dtypes == \"object\"]"
      ],
      "execution_count": 0,
      "outputs": []
    },
    {
      "metadata": {
        "id": "fiahEf0QWdZc",
        "colab_type": "code",
        "colab": {
          "base_uri": "https://localhost:8080/",
          "height": 199
        },
        "outputId": "0e9f568d-266f-4bb5-f221-2b71e09571c4"
      },
      "cell_type": "code",
      "source": [
        "print(\"Number of Numerical features: {}\".format(len(numerical_feats)))\n",
        "numerical_feats.index"
      ],
      "execution_count": 0,
      "outputs": [
        {
          "output_type": "stream",
          "text": [
            "Number of Numerical features: 37\n"
          ],
          "name": "stdout"
        },
        {
          "output_type": "execute_result",
          "data": {
            "text/plain": [
              "Index(['MSSubClass', 'LotFrontage', 'LotArea', 'OverallQual', 'OverallCond',\n",
              "       'YearBuilt', 'YearRemodAdd', 'MasVnrArea', 'BsmtFinSF1', 'BsmtFinSF2',\n",
              "       'BsmtUnfSF', 'TotalBsmtSF', '1stFlrSF', '2ndFlrSF', 'LowQualFinSF',\n",
              "       'GrLivArea', 'BsmtFullBath', 'BsmtHalfBath', 'FullBath', 'HalfBath',\n",
              "       'BedroomAbvGr', 'KitchenAbvGr', 'TotRmsAbvGrd', 'Fireplaces',\n",
              "       'GarageYrBlt', 'GarageCars', 'GarageArea', 'WoodDeckSF', 'OpenPorchSF',\n",
              "       'EnclosedPorch', '3SsnPorch', 'ScreenPorch', 'PoolArea', 'MiscVal',\n",
              "       'MoSold', 'YrSold', 'SalePrice'],\n",
              "      dtype='object')"
            ]
          },
          "metadata": {
            "tags": []
          },
          "execution_count": 22
        }
      ]
    },
    {
      "metadata": {
        "id": "5ZRHSqb3Wnnz",
        "colab_type": "code",
        "colab": {
          "base_uri": "https://localhost:8080/",
          "height": 217
        },
        "outputId": "b06af9f5-7029-4cd9-afb1-c54f6a55db5f"
      },
      "cell_type": "code",
      "source": [
        "print(\"Number of Categorical featues: {}\".format(len(categorical_feats)))\n",
        "categorical_feats.index"
      ],
      "execution_count": 0,
      "outputs": [
        {
          "output_type": "stream",
          "text": [
            "Number of Categorical featues: 43\n"
          ],
          "name": "stdout"
        },
        {
          "output_type": "execute_result",
          "data": {
            "text/plain": [
              "Index(['MSZoning', 'Street', 'Alley', 'LotShape', 'LandContour', 'Utilities',\n",
              "       'LotConfig', 'LandSlope', 'Neighborhood', 'Condition1', 'Condition2',\n",
              "       'BldgType', 'HouseStyle', 'RoofStyle', 'RoofMatl', 'Exterior1st',\n",
              "       'Exterior2nd', 'MasVnrType', 'ExterQual', 'ExterCond', 'Foundation',\n",
              "       'BsmtQual', 'BsmtCond', 'BsmtExposure', 'BsmtFinType1', 'BsmtFinType2',\n",
              "       'Heating', 'HeatingQC', 'CentralAir', 'Electrical', 'KitchenQual',\n",
              "       'Functional', 'FireplaceQu', 'GarageType', 'GarageFinish', 'GarageQual',\n",
              "       'GarageCond', 'PavedDrive', 'PoolQC', 'Fence', 'MiscFeature',\n",
              "       'SaleType', 'SaleCondition'],\n",
              "      dtype='object')"
            ]
          },
          "metadata": {
            "tags": []
          },
          "execution_count": 23
        }
      ]
    },
    {
      "metadata": {
        "id": "qTR4TvAkW5z0",
        "colab_type": "code",
        "colab": {
          "base_uri": "https://localhost:8080/",
          "height": 247
        },
        "outputId": "be8ed6ff-3877-4b01-af21-f7c5797cadde"
      },
      "cell_type": "code",
      "source": [
        "data[numerical_feats.index].head()"
      ],
      "execution_count": 0,
      "outputs": [
        {
          "output_type": "execute_result",
          "data": {
            "text/html": [
              "<div>\n",
              "<style scoped>\n",
              "    .dataframe tbody tr th:only-of-type {\n",
              "        vertical-align: middle;\n",
              "    }\n",
              "\n",
              "    .dataframe tbody tr th {\n",
              "        vertical-align: top;\n",
              "    }\n",
              "\n",
              "    .dataframe thead th {\n",
              "        text-align: right;\n",
              "    }\n",
              "</style>\n",
              "<table border=\"1\" class=\"dataframe\">\n",
              "  <thead>\n",
              "    <tr style=\"text-align: right;\">\n",
              "      <th></th>\n",
              "      <th>MSSubClass</th>\n",
              "      <th>LotFrontage</th>\n",
              "      <th>LotArea</th>\n",
              "      <th>OverallQual</th>\n",
              "      <th>OverallCond</th>\n",
              "      <th>YearBuilt</th>\n",
              "      <th>YearRemodAdd</th>\n",
              "      <th>MasVnrArea</th>\n",
              "      <th>BsmtFinSF1</th>\n",
              "      <th>BsmtFinSF2</th>\n",
              "      <th>...</th>\n",
              "      <th>WoodDeckSF</th>\n",
              "      <th>OpenPorchSF</th>\n",
              "      <th>EnclosedPorch</th>\n",
              "      <th>3SsnPorch</th>\n",
              "      <th>ScreenPorch</th>\n",
              "      <th>PoolArea</th>\n",
              "      <th>MiscVal</th>\n",
              "      <th>MoSold</th>\n",
              "      <th>YrSold</th>\n",
              "      <th>SalePrice</th>\n",
              "    </tr>\n",
              "  </thead>\n",
              "  <tbody>\n",
              "    <tr>\n",
              "      <th>0</th>\n",
              "      <td>60</td>\n",
              "      <td>65.0</td>\n",
              "      <td>8450</td>\n",
              "      <td>7</td>\n",
              "      <td>5</td>\n",
              "      <td>2003</td>\n",
              "      <td>2003</td>\n",
              "      <td>196.0</td>\n",
              "      <td>706</td>\n",
              "      <td>0</td>\n",
              "      <td>...</td>\n",
              "      <td>0</td>\n",
              "      <td>61</td>\n",
              "      <td>0</td>\n",
              "      <td>0</td>\n",
              "      <td>0</td>\n",
              "      <td>0</td>\n",
              "      <td>0</td>\n",
              "      <td>2</td>\n",
              "      <td>2008</td>\n",
              "      <td>208500</td>\n",
              "    </tr>\n",
              "    <tr>\n",
              "      <th>1</th>\n",
              "      <td>20</td>\n",
              "      <td>80.0</td>\n",
              "      <td>9600</td>\n",
              "      <td>6</td>\n",
              "      <td>8</td>\n",
              "      <td>1976</td>\n",
              "      <td>1976</td>\n",
              "      <td>0.0</td>\n",
              "      <td>978</td>\n",
              "      <td>0</td>\n",
              "      <td>...</td>\n",
              "      <td>298</td>\n",
              "      <td>0</td>\n",
              "      <td>0</td>\n",
              "      <td>0</td>\n",
              "      <td>0</td>\n",
              "      <td>0</td>\n",
              "      <td>0</td>\n",
              "      <td>5</td>\n",
              "      <td>2007</td>\n",
              "      <td>181500</td>\n",
              "    </tr>\n",
              "    <tr>\n",
              "      <th>2</th>\n",
              "      <td>60</td>\n",
              "      <td>68.0</td>\n",
              "      <td>11250</td>\n",
              "      <td>7</td>\n",
              "      <td>5</td>\n",
              "      <td>2001</td>\n",
              "      <td>2002</td>\n",
              "      <td>162.0</td>\n",
              "      <td>486</td>\n",
              "      <td>0</td>\n",
              "      <td>...</td>\n",
              "      <td>0</td>\n",
              "      <td>42</td>\n",
              "      <td>0</td>\n",
              "      <td>0</td>\n",
              "      <td>0</td>\n",
              "      <td>0</td>\n",
              "      <td>0</td>\n",
              "      <td>9</td>\n",
              "      <td>2008</td>\n",
              "      <td>223500</td>\n",
              "    </tr>\n",
              "    <tr>\n",
              "      <th>3</th>\n",
              "      <td>70</td>\n",
              "      <td>60.0</td>\n",
              "      <td>9550</td>\n",
              "      <td>7</td>\n",
              "      <td>5</td>\n",
              "      <td>1915</td>\n",
              "      <td>1970</td>\n",
              "      <td>0.0</td>\n",
              "      <td>216</td>\n",
              "      <td>0</td>\n",
              "      <td>...</td>\n",
              "      <td>0</td>\n",
              "      <td>35</td>\n",
              "      <td>272</td>\n",
              "      <td>0</td>\n",
              "      <td>0</td>\n",
              "      <td>0</td>\n",
              "      <td>0</td>\n",
              "      <td>2</td>\n",
              "      <td>2006</td>\n",
              "      <td>140000</td>\n",
              "    </tr>\n",
              "    <tr>\n",
              "      <th>4</th>\n",
              "      <td>60</td>\n",
              "      <td>84.0</td>\n",
              "      <td>14260</td>\n",
              "      <td>8</td>\n",
              "      <td>5</td>\n",
              "      <td>2000</td>\n",
              "      <td>2000</td>\n",
              "      <td>350.0</td>\n",
              "      <td>655</td>\n",
              "      <td>0</td>\n",
              "      <td>...</td>\n",
              "      <td>192</td>\n",
              "      <td>84</td>\n",
              "      <td>0</td>\n",
              "      <td>0</td>\n",
              "      <td>0</td>\n",
              "      <td>0</td>\n",
              "      <td>0</td>\n",
              "      <td>12</td>\n",
              "      <td>2008</td>\n",
              "      <td>250000</td>\n",
              "    </tr>\n",
              "  </tbody>\n",
              "</table>\n",
              "<p>5 rows × 37 columns</p>\n",
              "</div>"
            ],
            "text/plain": [
              "   MSSubClass  LotFrontage  LotArea  OverallQual  OverallCond  YearBuilt  \\\n",
              "0          60         65.0     8450            7            5       2003   \n",
              "1          20         80.0     9600            6            8       1976   \n",
              "2          60         68.0    11250            7            5       2001   \n",
              "3          70         60.0     9550            7            5       1915   \n",
              "4          60         84.0    14260            8            5       2000   \n",
              "\n",
              "   YearRemodAdd  MasVnrArea  BsmtFinSF1  BsmtFinSF2    ...      WoodDeckSF  \\\n",
              "0          2003       196.0         706           0    ...               0   \n",
              "1          1976         0.0         978           0    ...             298   \n",
              "2          2002       162.0         486           0    ...               0   \n",
              "3          1970         0.0         216           0    ...               0   \n",
              "4          2000       350.0         655           0    ...             192   \n",
              "\n",
              "   OpenPorchSF  EnclosedPorch  3SsnPorch  ScreenPorch  PoolArea  MiscVal  \\\n",
              "0           61              0          0            0         0        0   \n",
              "1            0              0          0            0         0        0   \n",
              "2           42              0          0            0         0        0   \n",
              "3           35            272          0            0         0        0   \n",
              "4           84              0          0            0         0        0   \n",
              "\n",
              "   MoSold  YrSold  SalePrice  \n",
              "0       2    2008     208500  \n",
              "1       5    2007     181500  \n",
              "2       9    2008     223500  \n",
              "3       2    2006     140000  \n",
              "4      12    2008     250000  \n",
              "\n",
              "[5 rows x 37 columns]"
            ]
          },
          "metadata": {
            "tags": []
          },
          "execution_count": 24
        }
      ]
    },
    {
      "metadata": {
        "id": "9nm3b6vkW9uN",
        "colab_type": "code",
        "colab": {
          "base_uri": "https://localhost:8080/",
          "height": 247
        },
        "outputId": "597025d5-fb10-424c-e1aa-c814c91d02cb"
      },
      "cell_type": "code",
      "source": [
        "data[categorical_feats.index].head()"
      ],
      "execution_count": 0,
      "outputs": [
        {
          "output_type": "execute_result",
          "data": {
            "text/html": [
              "<div>\n",
              "<style scoped>\n",
              "    .dataframe tbody tr th:only-of-type {\n",
              "        vertical-align: middle;\n",
              "    }\n",
              "\n",
              "    .dataframe tbody tr th {\n",
              "        vertical-align: top;\n",
              "    }\n",
              "\n",
              "    .dataframe thead th {\n",
              "        text-align: right;\n",
              "    }\n",
              "</style>\n",
              "<table border=\"1\" class=\"dataframe\">\n",
              "  <thead>\n",
              "    <tr style=\"text-align: right;\">\n",
              "      <th></th>\n",
              "      <th>MSZoning</th>\n",
              "      <th>Street</th>\n",
              "      <th>Alley</th>\n",
              "      <th>LotShape</th>\n",
              "      <th>LandContour</th>\n",
              "      <th>Utilities</th>\n",
              "      <th>LotConfig</th>\n",
              "      <th>LandSlope</th>\n",
              "      <th>Neighborhood</th>\n",
              "      <th>Condition1</th>\n",
              "      <th>...</th>\n",
              "      <th>GarageType</th>\n",
              "      <th>GarageFinish</th>\n",
              "      <th>GarageQual</th>\n",
              "      <th>GarageCond</th>\n",
              "      <th>PavedDrive</th>\n",
              "      <th>PoolQC</th>\n",
              "      <th>Fence</th>\n",
              "      <th>MiscFeature</th>\n",
              "      <th>SaleType</th>\n",
              "      <th>SaleCondition</th>\n",
              "    </tr>\n",
              "  </thead>\n",
              "  <tbody>\n",
              "    <tr>\n",
              "      <th>0</th>\n",
              "      <td>RL</td>\n",
              "      <td>Pave</td>\n",
              "      <td>NaN</td>\n",
              "      <td>Reg</td>\n",
              "      <td>Lvl</td>\n",
              "      <td>AllPub</td>\n",
              "      <td>Inside</td>\n",
              "      <td>Gtl</td>\n",
              "      <td>CollgCr</td>\n",
              "      <td>Norm</td>\n",
              "      <td>...</td>\n",
              "      <td>Attchd</td>\n",
              "      <td>RFn</td>\n",
              "      <td>TA</td>\n",
              "      <td>TA</td>\n",
              "      <td>Y</td>\n",
              "      <td>NaN</td>\n",
              "      <td>NaN</td>\n",
              "      <td>NaN</td>\n",
              "      <td>WD</td>\n",
              "      <td>Normal</td>\n",
              "    </tr>\n",
              "    <tr>\n",
              "      <th>1</th>\n",
              "      <td>RL</td>\n",
              "      <td>Pave</td>\n",
              "      <td>NaN</td>\n",
              "      <td>Reg</td>\n",
              "      <td>Lvl</td>\n",
              "      <td>AllPub</td>\n",
              "      <td>FR2</td>\n",
              "      <td>Gtl</td>\n",
              "      <td>Veenker</td>\n",
              "      <td>Feedr</td>\n",
              "      <td>...</td>\n",
              "      <td>Attchd</td>\n",
              "      <td>RFn</td>\n",
              "      <td>TA</td>\n",
              "      <td>TA</td>\n",
              "      <td>Y</td>\n",
              "      <td>NaN</td>\n",
              "      <td>NaN</td>\n",
              "      <td>NaN</td>\n",
              "      <td>WD</td>\n",
              "      <td>Normal</td>\n",
              "    </tr>\n",
              "    <tr>\n",
              "      <th>2</th>\n",
              "      <td>RL</td>\n",
              "      <td>Pave</td>\n",
              "      <td>NaN</td>\n",
              "      <td>IR1</td>\n",
              "      <td>Lvl</td>\n",
              "      <td>AllPub</td>\n",
              "      <td>Inside</td>\n",
              "      <td>Gtl</td>\n",
              "      <td>CollgCr</td>\n",
              "      <td>Norm</td>\n",
              "      <td>...</td>\n",
              "      <td>Attchd</td>\n",
              "      <td>RFn</td>\n",
              "      <td>TA</td>\n",
              "      <td>TA</td>\n",
              "      <td>Y</td>\n",
              "      <td>NaN</td>\n",
              "      <td>NaN</td>\n",
              "      <td>NaN</td>\n",
              "      <td>WD</td>\n",
              "      <td>Normal</td>\n",
              "    </tr>\n",
              "    <tr>\n",
              "      <th>3</th>\n",
              "      <td>RL</td>\n",
              "      <td>Pave</td>\n",
              "      <td>NaN</td>\n",
              "      <td>IR1</td>\n",
              "      <td>Lvl</td>\n",
              "      <td>AllPub</td>\n",
              "      <td>Corner</td>\n",
              "      <td>Gtl</td>\n",
              "      <td>Crawfor</td>\n",
              "      <td>Norm</td>\n",
              "      <td>...</td>\n",
              "      <td>Detchd</td>\n",
              "      <td>Unf</td>\n",
              "      <td>TA</td>\n",
              "      <td>TA</td>\n",
              "      <td>Y</td>\n",
              "      <td>NaN</td>\n",
              "      <td>NaN</td>\n",
              "      <td>NaN</td>\n",
              "      <td>WD</td>\n",
              "      <td>Abnorml</td>\n",
              "    </tr>\n",
              "    <tr>\n",
              "      <th>4</th>\n",
              "      <td>RL</td>\n",
              "      <td>Pave</td>\n",
              "      <td>NaN</td>\n",
              "      <td>IR1</td>\n",
              "      <td>Lvl</td>\n",
              "      <td>AllPub</td>\n",
              "      <td>FR2</td>\n",
              "      <td>Gtl</td>\n",
              "      <td>NoRidge</td>\n",
              "      <td>Norm</td>\n",
              "      <td>...</td>\n",
              "      <td>Attchd</td>\n",
              "      <td>RFn</td>\n",
              "      <td>TA</td>\n",
              "      <td>TA</td>\n",
              "      <td>Y</td>\n",
              "      <td>NaN</td>\n",
              "      <td>NaN</td>\n",
              "      <td>NaN</td>\n",
              "      <td>WD</td>\n",
              "      <td>Normal</td>\n",
              "    </tr>\n",
              "  </tbody>\n",
              "</table>\n",
              "<p>5 rows × 43 columns</p>\n",
              "</div>"
            ],
            "text/plain": [
              "  MSZoning Street Alley LotShape LandContour Utilities LotConfig LandSlope  \\\n",
              "0       RL   Pave   NaN      Reg         Lvl    AllPub    Inside       Gtl   \n",
              "1       RL   Pave   NaN      Reg         Lvl    AllPub       FR2       Gtl   \n",
              "2       RL   Pave   NaN      IR1         Lvl    AllPub    Inside       Gtl   \n",
              "3       RL   Pave   NaN      IR1         Lvl    AllPub    Corner       Gtl   \n",
              "4       RL   Pave   NaN      IR1         Lvl    AllPub       FR2       Gtl   \n",
              "\n",
              "  Neighborhood Condition1      ...      GarageType GarageFinish GarageQual  \\\n",
              "0      CollgCr       Norm      ...          Attchd          RFn         TA   \n",
              "1      Veenker      Feedr      ...          Attchd          RFn         TA   \n",
              "2      CollgCr       Norm      ...          Attchd          RFn         TA   \n",
              "3      Crawfor       Norm      ...          Detchd          Unf         TA   \n",
              "4      NoRidge       Norm      ...          Attchd          RFn         TA   \n",
              "\n",
              "  GarageCond PavedDrive PoolQC Fence MiscFeature SaleType SaleCondition  \n",
              "0         TA          Y    NaN   NaN         NaN       WD        Normal  \n",
              "1         TA          Y    NaN   NaN         NaN       WD        Normal  \n",
              "2         TA          Y    NaN   NaN         NaN       WD        Normal  \n",
              "3         TA          Y    NaN   NaN         NaN       WD       Abnorml  \n",
              "4         TA          Y    NaN   NaN         NaN       WD        Normal  \n",
              "\n",
              "[5 rows x 43 columns]"
            ]
          },
          "metadata": {
            "tags": []
          },
          "execution_count": 25
        }
      ]
    },
    {
      "metadata": {
        "id": "cbdnyntI0IlB",
        "colab_type": "text"
      },
      "cell_type": "markdown",
      "source": [
        "####Dealing with Outliers"
      ]
    },
    {
      "metadata": {
        "id": "NzPMmiBC1zgT",
        "colab_type": "text"
      },
      "cell_type": "markdown",
      "source": [
        "http://ww2.amstat.org/publications/jse/v19n3/Decock/DataDocumentation.txt\n",
        "<br>이 문서에 보면 datasets에 outliers가 있음을 알 수 있다."
      ]
    },
    {
      "metadata": {
        "id": "YZfuvnnG0OCR",
        "colab_type": "code",
        "colab": {
          "base_uri": "https://localhost:8080/",
          "height": 281
        },
        "outputId": "4f739f8f-1489-461b-8ab8-def7c9b7ca3b"
      },
      "cell_type": "code",
      "source": [
        "fig, ax = plt.subplots()\n",
        "ax.scatter(x = data['GrLivArea'], y = data['SalePrice'])\n",
        "plt.ylabel('SalePrice', fontsize=13)\n",
        "plt.xlabel('GrLivArea', fontsize=13)\n",
        "plt.show()"
      ],
      "execution_count": 0,
      "outputs": [
        {
          "output_type": "display_data",
          "data": {
            "image/png": "[encoded data removed]",
            "text/plain": [
              "<matplotlib.figure.Figure at 0x7f60817a60b8>"
            ]
          },
          "metadata": {
            "tags": []
          }
        }
      ]
    },
    {
      "metadata": {
        "id": "WShgrPyV2PVv",
        "colab_type": "code",
        "colab": {}
      },
      "cell_type": "code",
      "source": [
        "# Removing outliers\n",
        "data = data.drop(data[(data['GrLivArea']>4000) & (data['SalePrice']<300000)].index)"
      ],
      "execution_count": 0,
      "outputs": []
    },
    {
      "metadata": {
        "id": "58TbuaB42P_o",
        "colab_type": "code",
        "colab": {
          "base_uri": "https://localhost:8080/",
          "height": 281
        },
        "outputId": "d23a3f2b-1f97-4155-ceec-7bed943eee9a"
      },
      "cell_type": "code",
      "source": [
        "fig, ax = plt.subplots()\n",
        "ax.scatter(x = data['GrLivArea'], y = data['SalePrice'])\n",
        "plt.ylabel('SalePrice', fontsize=13)\n",
        "plt.xlabel('GrLivArea', fontsize=13)\n",
        "plt.show()"
      ],
      "execution_count": 0,
      "outputs": [
        {
          "output_type": "display_data",
          "data": {
            "image/png": "[encoded data removed]",
            "text/plain": [
              "<matplotlib.figure.Figure at 0x7f607ed46908>"
            ]
          },
          "metadata": {
            "tags": []
          }
        }
      ]
    },
    {
      "metadata": {
        "id": "R7p3o1ArXH2f",
        "colab_type": "text"
      },
      "cell_type": "markdown",
      "source": [
        "####List of features with missing values"
      ]
    },
    {
      "metadata": {
        "id": "xxptqsKvXYel",
        "colab_type": "code",
        "colab": {
          "base_uri": "https://localhost:8080/",
          "height": 648
        },
        "outputId": "5722f597-cd45-4789-b776-60cad69d0b30"
      },
      "cell_type": "code",
      "source": [
        "total = data.isnull().sum().sort_values(ascending=False)\n",
        "percent = (data.isnull().sum() / data.isnull().count()).sort_values(ascending=False)\n",
        "missing_data = pd.concat([total, percent], axis=1, keys=['Total', 'Percent'])\n",
        "missing_data.head(20)"
      ],
      "execution_count": 0,
      "outputs": [
        {
          "output_type": "execute_result",
          "data": {
            "text/html": [
              "<div>\n",
              "<style scoped>\n",
              "    .dataframe tbody tr th:only-of-type {\n",
              "        vertical-align: middle;\n",
              "    }\n",
              "\n",
              "    .dataframe tbody tr th {\n",
              "        vertical-align: top;\n",
              "    }\n",
              "\n",
              "    .dataframe thead th {\n",
              "        text-align: right;\n",
              "    }\n",
              "</style>\n",
              "<table border=\"1\" class=\"dataframe\">\n",
              "  <thead>\n",
              "    <tr style=\"text-align: right;\">\n",
              "      <th></th>\n",
              "      <th>Total</th>\n",
              "      <th>Percent</th>\n",
              "    </tr>\n",
              "  </thead>\n",
              "  <tbody>\n",
              "    <tr>\n",
              "      <th>PoolQC</th>\n",
              "      <td>1452</td>\n",
              "      <td>0.995885</td>\n",
              "    </tr>\n",
              "    <tr>\n",
              "      <th>MiscFeature</th>\n",
              "      <td>1404</td>\n",
              "      <td>0.962963</td>\n",
              "    </tr>\n",
              "    <tr>\n",
              "      <th>Alley</th>\n",
              "      <td>1367</td>\n",
              "      <td>0.937586</td>\n",
              "    </tr>\n",
              "    <tr>\n",
              "      <th>Fence</th>\n",
              "      <td>1177</td>\n",
              "      <td>0.807270</td>\n",
              "    </tr>\n",
              "    <tr>\n",
              "      <th>FireplaceQu</th>\n",
              "      <td>690</td>\n",
              "      <td>0.473251</td>\n",
              "    </tr>\n",
              "    <tr>\n",
              "      <th>LotFrontage</th>\n",
              "      <td>259</td>\n",
              "      <td>0.177641</td>\n",
              "    </tr>\n",
              "    <tr>\n",
              "      <th>GarageType</th>\n",
              "      <td>81</td>\n",
              "      <td>0.055556</td>\n",
              "    </tr>\n",
              "    <tr>\n",
              "      <th>GarageCond</th>\n",
              "      <td>81</td>\n",
              "      <td>0.055556</td>\n",
              "    </tr>\n",
              "    <tr>\n",
              "      <th>GarageFinish</th>\n",
              "      <td>81</td>\n",
              "      <td>0.055556</td>\n",
              "    </tr>\n",
              "    <tr>\n",
              "      <th>GarageQual</th>\n",
              "      <td>81</td>\n",
              "      <td>0.055556</td>\n",
              "    </tr>\n",
              "    <tr>\n",
              "      <th>GarageYrBlt</th>\n",
              "      <td>81</td>\n",
              "      <td>0.055556</td>\n",
              "    </tr>\n",
              "    <tr>\n",
              "      <th>BsmtFinType2</th>\n",
              "      <td>38</td>\n",
              "      <td>0.026063</td>\n",
              "    </tr>\n",
              "    <tr>\n",
              "      <th>BsmtExposure</th>\n",
              "      <td>38</td>\n",
              "      <td>0.026063</td>\n",
              "    </tr>\n",
              "    <tr>\n",
              "      <th>BsmtQual</th>\n",
              "      <td>37</td>\n",
              "      <td>0.025377</td>\n",
              "    </tr>\n",
              "    <tr>\n",
              "      <th>BsmtCond</th>\n",
              "      <td>37</td>\n",
              "      <td>0.025377</td>\n",
              "    </tr>\n",
              "    <tr>\n",
              "      <th>BsmtFinType1</th>\n",
              "      <td>37</td>\n",
              "      <td>0.025377</td>\n",
              "    </tr>\n",
              "    <tr>\n",
              "      <th>MasVnrArea</th>\n",
              "      <td>8</td>\n",
              "      <td>0.005487</td>\n",
              "    </tr>\n",
              "    <tr>\n",
              "      <th>MasVnrType</th>\n",
              "      <td>8</td>\n",
              "      <td>0.005487</td>\n",
              "    </tr>\n",
              "    <tr>\n",
              "      <th>Electrical</th>\n",
              "      <td>1</td>\n",
              "      <td>0.000686</td>\n",
              "    </tr>\n",
              "    <tr>\n",
              "      <th>RoofMatl</th>\n",
              "      <td>0</td>\n",
              "      <td>0.000000</td>\n",
              "    </tr>\n",
              "  </tbody>\n",
              "</table>\n",
              "</div>"
            ],
            "text/plain": [
              "              Total   Percent\n",
              "PoolQC         1452  0.995885\n",
              "MiscFeature    1404  0.962963\n",
              "Alley          1367  0.937586\n",
              "Fence          1177  0.807270\n",
              "FireplaceQu     690  0.473251\n",
              "LotFrontage     259  0.177641\n",
              "GarageType       81  0.055556\n",
              "GarageCond       81  0.055556\n",
              "GarageFinish     81  0.055556\n",
              "GarageQual       81  0.055556\n",
              "GarageYrBlt      81  0.055556\n",
              "BsmtFinType2     38  0.026063\n",
              "BsmtExposure     38  0.026063\n",
              "BsmtQual         37  0.025377\n",
              "BsmtCond         37  0.025377\n",
              "BsmtFinType1     37  0.025377\n",
              "MasVnrArea        8  0.005487\n",
              "MasVnrType        8  0.005487\n",
              "Electrical        1  0.000686\n",
              "RoofMatl          0  0.000000"
            ]
          },
          "metadata": {
            "tags": []
          },
          "execution_count": 29
        }
      ]
    },
    {
      "metadata": {
        "id": "mvrArhQ35J-G",
        "colab_type": "code",
        "colab": {
          "base_uri": "https://localhost:8080/",
          "height": 543
        },
        "outputId": "f90c5633-0296-4f09-9700-cd55052aa2ec"
      },
      "cell_type": "code",
      "source": [
        "percent_with_na = percent[percent > 0]\n",
        "\n",
        "fig, ax = plt.subplots(figsize=(9, 6))\n",
        "plt.xticks(rotation='90', fontsize=14)\n",
        "sns.barplot(x=percent_with_na.index, y=percent_with_na)\n",
        "plt.xlabel('Features', fontsize=13)\n",
        "plt.ylabel('Percent of missing values', fontsize=13)\n",
        "plt.title('Percent missing data by feature', fontsize=15)"
      ],
      "execution_count": 0,
      "outputs": [
        {
          "output_type": "stream",
          "text": [
            "/usr/local/lib/python3.6/dist-packages/seaborn/categorical.py:1428: FutureWarning: remove_na is deprecated and is a private function. Do not use.\n",
            "  stat_data = remove_na(group_data)\n"
          ],
          "name": "stderr"
        },
        {
          "output_type": "execute_result",
          "data": {
            "text/plain": [
              "Text(0.5,1,'Percent missing data by feature')"
            ]
          },
          "metadata": {
            "tags": []
          },
          "execution_count": 30
        },
        {
          "output_type": "display_data",
          "data": {
            "image/png": "[encoded data removed]",
            "text/plain": [
              "<matplotlib.figure.Figure at 0x7f607ed38ac8>"
            ]
          },
          "metadata": {
            "tags": []
          }
        }
      ]
    },
    {
      "metadata": {
        "id": "qWbJbNYrmqwS",
        "colab_type": "code",
        "colab": {}
      },
      "cell_type": "code",
      "source": [
        "# Filling Missing values\n",
        "cols_to_fillna_with_none = ['PoolQC', 'MiscFeature', 'Alley', 'Fence', 'FireplaceQu', 'GarageCond', 'GarageType', 'GarageFinish', 'GarageQual', \n",
        "                            'BsmtExposure', 'BsmtFinType2', 'BsmtCond', 'BsmtQual', 'BsmtFinType1', 'MasVnrType', 'Electrical']\n",
        "cols_to_fillna_with_mean = ['LotFrontage', 'GarageYrBlt', 'MasVnrArea']\n",
        "\n",
        "for col in cols_to_fillna_with_none:\n",
        "  data[col].fillna('None', inplace=True)\n",
        "  \n",
        "for col in cols_to_fillna_with_mean:\n",
        "  data[col].fillna(data[col].mean(), inplace=True)"
      ],
      "execution_count": 0,
      "outputs": []
    },
    {
      "metadata": {
        "id": "LBzoy3vEoL9j",
        "colab_type": "text"
      },
      "cell_type": "markdown",
      "source": [
        "####Log transform"
      ]
    },
    {
      "metadata": {
        "id": "DckwsA5DbC2G",
        "colab_type": "code",
        "colab": {
          "base_uri": "https://localhost:8080/",
          "height": 55
        },
        "outputId": "f723808b-e718-4545-d199-80e812d36ed8"
      },
      "cell_type": "code",
      "source": [
        "dic = {}\n",
        "# sorted_by_value = sorted(x.items(), key=lambda kv: kv[1])\n",
        "for col in numerical_feats.index:\n",
        "  dic[col] = round(data[col].skew(), 4)\n",
        "  \n",
        "sorted_v = sorted(dic.items(), key=lambda kv: kv[1], reverse=True)\n",
        "\n",
        "print(sorted_v)"
      ],
      "execution_count": 0,
      "outputs": [
        {
          "output_type": "stream",
          "text": [
            "[('MiscVal', 24.4601), ('PoolArea', 15.9489), ('LotArea', 12.5739), ('3SsnPorch', 10.2971), ('LowQualFinSF', 9.005), ('KitchenAbvGr', 4.4849), ('BsmtFinSF2', 4.2519), ('ScreenPorch', 4.1189), ('BsmtHalfBath', 4.1001), ('EnclosedPorch', 3.0872), ('MasVnrArea', 2.6952), ('OpenPorchSF', 2.3398), ('SalePrice', 1.8813), ('LotFrontage', 1.7012), ('WoodDeckSF', 1.5458), ('MSSubClass', 1.407), ('GrLivArea', 1.011), ('BsmtUnfSF', 0.9209), ('1stFlrSF', 0.8876), ('2ndFlrSF', 0.813), ('BsmtFinSF1', 0.7648), ('OverallCond', 0.691), ('HalfBath', 0.6801), ('TotRmsAbvGrd', 0.6605), ('Fireplaces', 0.6321), ('BsmtFullBath', 0.5904), ('TotalBsmtSF', 0.5117), ('MoSold', 0.2154), ('BedroomAbvGr', 0.2123), ('OverallQual', 0.2008), ('GarageArea', 0.1317), ('YrSold', 0.0954), ('FullBath', 0.0313), ('GarageCars', -0.3424), ('YearRemodAdd', -0.5018), ('YearBuilt', -0.6123), ('GarageYrBlt', -0.6669)]\n"
          ],
          "name": "stdout"
        }
      ]
    },
    {
      "metadata": {
        "id": "dJcfX-OBogOK",
        "colab_type": "code",
        "colab": {
          "base_uri": "https://localhost:8080/",
          "height": 2708
        },
        "outputId": "a55bce95-f920-49f9-e436-464c2f44ac85"
      },
      "cell_type": "code",
      "source": [
        "cols_with_high_skewness= []\n",
        "for col in numerical_feats.index:\n",
        "  print(col)\n",
        "  print(\"Skewness: %f\" % data[col].skew())\n",
        "  print(\"Kurtosis: %f\" % data[col].kurt())\n",
        "  print(\"-\"*15)\n",
        "  if data[col].skew() > 1:\n",
        "    cols_with_high_skewness.append(col)"
      ],
      "execution_count": 0,
      "outputs": [
        {
          "output_type": "stream",
          "text": [
            "MSSubClass\n",
            "Skewness: 1.407011\n",
            "Kurtosis: 1.574553\n",
            "---------------\n",
            "LotFrontage\n",
            "Skewness: 1.701181\n",
            "Kurtosis: 14.657964\n",
            "---------------\n",
            "LotArea\n",
            "Skewness: 12.573925\n",
            "Kurtosis: 213.590680\n",
            "---------------\n",
            "OverallQual\n",
            "Skewness: 0.200786\n",
            "Kurtosis: 0.074960\n",
            "---------------\n",
            "OverallCond\n",
            "Skewness: 0.691035\n",
            "Kurtosis: 1.101740\n",
            "---------------\n",
            "YearBuilt\n",
            "Skewness: -0.612295\n",
            "Kurtosis: -0.439826\n",
            "---------------\n",
            "YearRemodAdd\n",
            "Skewness: -0.501838\n",
            "Kurtosis: -1.273920\n",
            "---------------\n",
            "MasVnrArea\n",
            "Skewness: 2.695173\n",
            "Kurtosis: 10.431754\n",
            "---------------\n",
            "BsmtFinSF1\n",
            "Skewness: 0.764789\n",
            "Kurtosis: -0.112098\n",
            "---------------\n",
            "BsmtFinSF2\n",
            "Skewness: 4.251925\n",
            "Kurtosis: 20.080289\n",
            "---------------\n",
            "BsmtUnfSF\n",
            "Skewness: 0.920903\n",
            "Kurtosis: 0.473872\n",
            "---------------\n",
            "TotalBsmtSF\n",
            "Skewness: 0.511703\n",
            "Kurtosis: 1.770105\n",
            "---------------\n",
            "1stFlrSF\n",
            "Skewness: 0.887637\n",
            "Kurtosis: 1.117385\n",
            "---------------\n",
            "2ndFlrSF\n",
            "Skewness: 0.812957\n",
            "Kurtosis: -0.557022\n",
            "---------------\n",
            "LowQualFinSF\n",
            "Skewness: 9.004955\n",
            "Kurtosis: 83.114539\n",
            "---------------\n",
            "GrLivArea\n",
            "Skewness: 1.010992\n",
            "Kurtosis: 2.063463\n",
            "---------------\n",
            "BsmtFullBath\n",
            "Skewness: 0.590358\n",
            "Kurtosis: -0.864212\n",
            "---------------\n",
            "BsmtHalfBath\n",
            "Skewness: 4.100114\n",
            "Kurtosis: 16.367797\n",
            "---------------\n",
            "FullBath\n",
            "Skewness: 0.031271\n",
            "Kurtosis: -0.869968\n",
            "---------------\n",
            "HalfBath\n",
            "Skewness: 0.680051\n",
            "Kurtosis: -1.070134\n",
            "---------------\n",
            "BedroomAbvGr\n",
            "Skewness: 0.212325\n",
            "Kurtosis: 2.224291\n",
            "---------------\n",
            "KitchenAbvGr\n",
            "Skewness: 4.484883\n",
            "Kurtosis: 21.496687\n",
            "---------------\n",
            "TotRmsAbvGrd\n",
            "Skewness: 0.660502\n",
            "Kurtosis: 0.857578\n",
            "---------------\n",
            "Fireplaces\n",
            "Skewness: 0.632060\n",
            "Kurtosis: -0.290840\n",
            "---------------\n",
            "GarageYrBlt\n",
            "Skewness: -0.666887\n",
            "Kurtosis: -0.266909\n",
            "---------------\n",
            "GarageCars\n",
            "Skewness: -0.342377\n",
            "Kurtosis: 0.222108\n",
            "---------------\n",
            "GarageArea\n",
            "Skewness: 0.131748\n",
            "Kurtosis: 0.761293\n",
            "---------------\n",
            "WoodDeckSF\n",
            "Skewness: 1.545805\n",
            "Kurtosis: 3.005930\n",
            "---------------\n",
            "OpenPorchSF\n",
            "Skewness: 2.339829\n",
            "Kurtosis: 8.476318\n",
            "---------------\n",
            "EnclosedPorch\n",
            "Skewness: 3.087164\n",
            "Kurtosis: 10.411046\n",
            "---------------\n",
            "3SsnPorch\n",
            "Skewness: 10.297106\n",
            "Kurtosis: 123.487560\n",
            "---------------\n",
            "ScreenPorch\n",
            "Skewness: 4.118929\n",
            "Kurtosis: 18.407948\n",
            "---------------\n",
            "PoolArea\n",
            "Skewness: 15.948945\n",
            "Kurtosis: 257.748720\n",
            "---------------\n",
            "MiscVal\n",
            "Skewness: 24.460085\n",
            "Kurtosis: 700.045287\n",
            "---------------\n",
            "MoSold\n",
            "Skewness: 0.215432\n",
            "Kurtosis: -0.400289\n",
            "---------------\n",
            "YrSold\n",
            "Skewness: 0.095420\n",
            "Kurtosis: -1.192325\n",
            "---------------\n",
            "SalePrice\n",
            "Skewness: 1.881296\n",
            "Kurtosis: 6.523067\n",
            "---------------\n"
          ],
          "name": "stdout"
        }
      ]
    },
    {
      "metadata": {
        "id": "qR6x-mn2s3LC",
        "colab_type": "code",
        "colab": {
          "base_uri": "https://localhost:8080/",
          "height": 74
        },
        "outputId": "04d7669a-aad2-4238-c539-c0b6b9a8a3a1"
      },
      "cell_type": "code",
      "source": [
        "# Features which have high skewness\n",
        "print(len(cols_with_high_skewness))\n",
        "print(cols_with_high_skewness)"
      ],
      "execution_count": 0,
      "outputs": [
        {
          "output_type": "stream",
          "text": [
            "17\n",
            "['MSSubClass', 'LotFrontage', 'LotArea', 'MasVnrArea', 'BsmtFinSF2', 'LowQualFinSF', 'GrLivArea', 'BsmtHalfBath', 'KitchenAbvGr', 'WoodDeckSF', 'OpenPorchSF', 'EnclosedPorch', '3SsnPorch', 'ScreenPorch', 'PoolArea', 'MiscVal', 'SalePrice']\n"
          ],
          "name": "stdout"
        }
      ]
    },
    {
      "metadata": {
        "id": "eJ9hTJMoq_H3",
        "colab_type": "code",
        "colab": {
          "base_uri": "https://localhost:8080/",
          "height": 297
        },
        "outputId": "e4310f8b-956e-4aee-ef95-6edaa1ad73eb"
      },
      "cell_type": "code",
      "source": [
        "# Skewness 그래프를 보기 위한 셀\n",
        "col_for_explore = 'LowQualFinSF'\n",
        "sns.distplot(data[col_for_explore]);\n",
        "#skewness and kurtosis\n",
        "# print(\"Skewness: %f\" % data[col_for_explore].skew())\n",
        "# print(\"Kurtosis: %f\" % data[col_for_explore].kurt())\n",
        "print(\"Skewness of {}: {:.4f}\".format(col_for_explore, data[col_for_explore].skew()))"
      ],
      "execution_count": 0,
      "outputs": [
        {
          "output_type": "stream",
          "text": [
            "Skewness of LowQualFinSF: 9.0050\n"
          ],
          "name": "stdout"
        },
        {
          "output_type": "display_data",
          "data": {
            "image/png": "[encoded data removed]",
            "text/plain": [
              "<matplotlib.figure.Figure at 0x7f60817a7a90>"
            ]
          },
          "metadata": {
            "tags": []
          }
        }
      ]
    },
    {
      "metadata": {
        "id": "f2akbY3W8aud",
        "colab_type": "code",
        "colab": {
          "base_uri": "https://localhost:8080/",
          "height": 297
        },
        "outputId": "5b05f5ea-d692-4ba8-e8bf-6a21b33d11a5"
      },
      "cell_type": "code",
      "source": [
        "# Skewness 그래프를 보기 위한 셀\n",
        "col_for_explore = 'GarageArea'\n",
        "sns.distplot(data[col_for_explore]);\n",
        "#skewness and kurtosis\n",
        "# print(\"Skewness: %f\" % data[col_for_explore].skew())\n",
        "# print(\"Kurtosis: %f\" % data[col_for_explore].kurt())\n",
        "print(\"Skewness of {}: {:.4f}\".format(col_for_explore, data[col_for_explore].skew()))"
      ],
      "execution_count": 0,
      "outputs": [
        {
          "output_type": "stream",
          "text": [
            "Skewness of GarageArea: 0.1317\n"
          ],
          "name": "stdout"
        },
        {
          "output_type": "display_data",
          "data": {
            "image/png": "[encoded data removed]",
            "text/plain": [
              "<matplotlib.figure.Figure at 0x7f607ebe6ac8>"
            ]
          },
          "metadata": {
            "tags": []
          }
        }
      ]
    },
    {
      "metadata": {
        "id": "FITQn7eCrWgs",
        "colab_type": "code",
        "colab": {}
      },
      "cell_type": "code",
      "source": [
        "# Logarithmic Transformation (여기서 target feature 도 Log Transform 됨.)\n",
        "cols_to_log_transform = cols_with_high_skewness\n",
        "\n",
        "for col in cols_to_log_transform:\n",
        "#   data[col+'_Log'] = np.log1p(data[col])\n",
        "#   data.drop(col, axis=1, inplace=True)\n",
        "  data[col] = np.log1p(data[col])"
      ],
      "execution_count": 0,
      "outputs": []
    },
    {
      "metadata": {
        "id": "1QP5oaWp7vau",
        "colab_type": "text"
      },
      "cell_type": "markdown",
      "source": [
        "####Data Correlation"
      ]
    },
    {
      "metadata": {
        "id": "Dd9F8NPf7x-T",
        "colab_type": "code",
        "colab": {
          "base_uri": "https://localhost:8080/",
          "height": 585
        },
        "outputId": "a814e800-af04-4ec7-fd83-529673085fce"
      },
      "cell_type": "code",
      "source": [
        "#Correlation map to see how features are correlated with SalePrice\n",
        "corrmat = data.corr()\n",
        "plt.subplots(figsize=(10,8.5))\n",
        "sns.heatmap(corrmat, vmax=0.9, square=True)"
      ],
      "execution_count": 0,
      "outputs": [
        {
          "output_type": "execute_result",
          "data": {
            "text/plain": [
              "<matplotlib.axes._subplots.AxesSubplot at 0x7f607ee47978>"
            ]
          },
          "metadata": {
            "tags": []
          },
          "execution_count": 38
        },
        {
          "output_type": "display_data",
          "data": {
            "image/png": "[encoded data removed]",
            "text/plain": [
              "<matplotlib.figure.Figure at 0x7f608188c208>"
            ]
          },
          "metadata": {
            "tags": []
          }
        }
      ]
    },
    {
      "metadata": {
        "id": "npG4dMp26Zi9",
        "colab_type": "code",
        "colab": {
          "base_uri": "https://localhost:8080/",
          "height": 708
        },
        "outputId": "38084e23-7680-4a06-a5d1-6fc3bcde4a0e"
      },
      "cell_type": "code",
      "source": [
        "corr_abs=data.corr()[\"SalePrice\"].abs()\n",
        "corr_abs[np.argsort(corr_abs, axis=0)[::-1]]"
      ],
      "execution_count": 0,
      "outputs": [
        {
          "output_type": "execute_result",
          "data": {
            "text/plain": [
              "SalePrice        1.000000\n",
              "OverallQual      0.821405\n",
              "GrLivArea        0.737431\n",
              "GarageCars       0.681033\n",
              "GarageArea       0.656129\n",
              "TotalBsmtSF      0.647563\n",
              "1stFlrSF         0.620500\n",
              "FullBath         0.595899\n",
              "YearBuilt        0.587043\n",
              "YearRemodAdd     0.565992\n",
              "TotRmsAbvGrd     0.537702\n",
              "GarageYrBlt      0.500972\n",
              "Fireplaces       0.491998\n",
              "OpenPorchSF      0.460623\n",
              "MasVnrArea       0.421006\n",
              "LotArea          0.402820\n",
              "BsmtFinSF1       0.392283\n",
              "LotFrontage      0.349952\n",
              "WoodDeckSF       0.343225\n",
              "2ndFlrSF         0.319953\n",
              "HalfBath         0.314186\n",
              "BsmtFullBath     0.237099\n",
              "BsmtUnfSF        0.221892\n",
              "BedroomAbvGr     0.209035\n",
              "EnclosedPorch    0.207249\n",
              "KitchenAbvGr     0.144264\n",
              "ScreenPorch      0.105897\n",
              "PoolArea         0.076269\n",
              "MiscVal          0.067037\n",
              "3SsnPorch        0.058843\n",
              "MoSold           0.057064\n",
              "LowQualFinSF     0.054501\n",
              "YrSold           0.037151\n",
              "OverallCond      0.036821\n",
              "BsmtFinSF2       0.030327\n",
              "MSSubClass       0.020327\n",
              "BsmtHalfBath     0.004865\n",
              "Name: SalePrice, dtype: float64"
            ]
          },
          "metadata": {
            "tags": []
          },
          "execution_count": 39
        }
      ]
    },
    {
      "metadata": {
        "id": "y30xI03KwQnD",
        "colab_type": "code",
        "colab": {}
      },
      "cell_type": "code",
      "source": [
        "corr_abs=data.corr()[\"SalePrice\"].abs()\n",
        "tmp = corr_abs[np.argsort(corr_abs, axis=0)[::-1]]"
      ],
      "execution_count": 0,
      "outputs": []
    },
    {
      "metadata": {
        "id": "fHwxqF6kwTgG",
        "colab_type": "code",
        "colab": {
          "base_uri": "https://localhost:8080/",
          "height": 690
        },
        "outputId": "59e037c3-29fa-4fa1-bd28-d8387ffb568c"
      },
      "cell_type": "code",
      "source": [
        "list(zip(tmp.index, round(tmp, 4)))"
      ],
      "execution_count": 0,
      "outputs": [
        {
          "output_type": "execute_result",
          "data": {
            "text/plain": [
              "[('SalePrice', 1.0),\n",
              " ('OverallQual', 0.8214),\n",
              " ('GrLivArea', 0.7374),\n",
              " ('GarageCars', 0.681),\n",
              " ('GarageArea', 0.6561),\n",
              " ('TotalBsmtSF', 0.6476),\n",
              " ('1stFlrSF', 0.6205),\n",
              " ('FullBath', 0.5959),\n",
              " ('YearBuilt', 0.587),\n",
              " ('YearRemodAdd', 0.566),\n",
              " ('TotRmsAbvGrd', 0.5377),\n",
              " ('GarageYrBlt', 0.501),\n",
              " ('Fireplaces', 0.492),\n",
              " ('OpenPorchSF', 0.4606),\n",
              " ('MasVnrArea', 0.421),\n",
              " ('LotArea', 0.4028),\n",
              " ('BsmtFinSF1', 0.3923),\n",
              " ('LotFrontage', 0.35),\n",
              " ('WoodDeckSF', 0.3432),\n",
              " ('2ndFlrSF', 0.32),\n",
              " ('HalfBath', 0.3142),\n",
              " ('BsmtFullBath', 0.2371),\n",
              " ('BsmtUnfSF', 0.2219),\n",
              " ('BedroomAbvGr', 0.209),\n",
              " ('EnclosedPorch', 0.2072),\n",
              " ('KitchenAbvGr', 0.1443),\n",
              " ('ScreenPorch', 0.1059),\n",
              " ('PoolArea', 0.0763),\n",
              " ('MiscVal', 0.067),\n",
              " ('3SsnPorch', 0.0588),\n",
              " ('MoSold', 0.0571),\n",
              " ('LowQualFinSF', 0.0545),\n",
              " ('YrSold', 0.0372),\n",
              " ('OverallCond', 0.0368),\n",
              " ('BsmtFinSF2', 0.0303),\n",
              " ('MSSubClass', 0.0203),\n",
              " ('BsmtHalfBath', 0.0049)]"
            ]
          },
          "metadata": {
            "tags": []
          },
          "execution_count": 41
        }
      ]
    },
    {
      "metadata": {
        "id": "PwAx_x89ZL29",
        "colab_type": "text"
      },
      "cell_type": "markdown",
      "source": [
        "####Find columns with strong correlation to target"
      ]
    },
    {
      "metadata": {
        "id": "K-4KN-Y1BY_F",
        "colab_type": "code",
        "colab": {}
      },
      "cell_type": "code",
      "source": [
        "min_val_corr = 0.4\n",
        "\n",
        "cols_above_corr_limit = list(corr_abs[corr_abs.values > min_val_corr].index)\n",
        "cols_below_corr_limit = list(corr_abs[corr_abs.values <= min_val_corr].index)"
      ],
      "execution_count": 0,
      "outputs": []
    },
    {
      "metadata": {
        "id": "_NrBsAHAZkBz",
        "colab_type": "text"
      },
      "cell_type": "markdown",
      "source": [
        "####Drop all columns with only small correlation to Target"
      ]
    },
    {
      "metadata": {
        "id": "4PUMBDQjZllg",
        "colab_type": "code",
        "colab": {}
      },
      "cell_type": "code",
      "source": [
        "# Dropping columns with small correlation to target variable\n",
        "data.drop(cols_below_corr_limit, axis=1, inplace=True)"
      ],
      "execution_count": 0,
      "outputs": []
    },
    {
      "metadata": {
        "id": "QIaas39-i4N5",
        "colab_type": "code",
        "colab": {
          "base_uri": "https://localhost:8080/",
          "height": 254
        },
        "outputId": "fea86ae8-f0a0-42fc-ebe2-71a35bb7d40f"
      },
      "cell_type": "code",
      "source": [
        "data.columns"
      ],
      "execution_count": 0,
      "outputs": [
        {
          "output_type": "execute_result",
          "data": {
            "text/plain": [
              "Index(['MSZoning', 'LotArea', 'Street', 'Alley', 'LotShape', 'LandContour',\n",
              "       'Utilities', 'LotConfig', 'LandSlope', 'Neighborhood', 'Condition1',\n",
              "       'Condition2', 'BldgType', 'HouseStyle', 'OverallQual', 'YearBuilt',\n",
              "       'YearRemodAdd', 'RoofStyle', 'RoofMatl', 'Exterior1st', 'Exterior2nd',\n",
              "       'MasVnrType', 'MasVnrArea', 'ExterQual', 'ExterCond', 'Foundation',\n",
              "       'BsmtQual', 'BsmtCond', 'BsmtExposure', 'BsmtFinType1', 'BsmtFinType2',\n",
              "       'TotalBsmtSF', 'Heating', 'HeatingQC', 'CentralAir', 'Electrical',\n",
              "       '1stFlrSF', 'GrLivArea', 'FullBath', 'KitchenQual', 'TotRmsAbvGrd',\n",
              "       'Functional', 'Fireplaces', 'FireplaceQu', 'GarageType', 'GarageYrBlt',\n",
              "       'GarageFinish', 'GarageCars', 'GarageArea', 'GarageQual', 'GarageCond',\n",
              "       'PavedDrive', 'OpenPorchSF', 'PoolQC', 'Fence', 'MiscFeature',\n",
              "       'SaleType', 'SaleCondition', 'SalePrice'],\n",
              "      dtype='object')"
            ]
          },
          "metadata": {
            "tags": []
          },
          "execution_count": 44
        }
      ]
    },
    {
      "metadata": {
        "id": "aF1T_0fPC2Ic",
        "colab_type": "text"
      },
      "cell_type": "markdown",
      "source": [
        "####Get Dummies"
      ]
    },
    {
      "metadata": {
        "id": "JDY7S6eKDH5E",
        "colab_type": "code",
        "colab": {}
      },
      "cell_type": "code",
      "source": [
        "# Getting dummy categorical features\n",
        "dummy_data = pd.get_dummies(data)"
      ],
      "execution_count": 0,
      "outputs": []
    },
    {
      "metadata": {
        "id": "KCU9_4b57UMx",
        "colab_type": "text"
      },
      "cell_type": "markdown",
      "source": [
        "##Data wrangling"
      ]
    },
    {
      "metadata": {
        "id": "TktmEP0J7XFT",
        "colab_type": "code",
        "colab": {}
      },
      "cell_type": "code",
      "source": [
        ""
      ],
      "execution_count": 0,
      "outputs": []
    },
    {
      "metadata": {
        "id": "_N0KYjzjkvEp",
        "colab_type": "text"
      },
      "cell_type": "markdown",
      "source": [
        "##Developing a Model"
      ]
    },
    {
      "metadata": {
        "id": "HtBjbdsYonNK",
        "colab_type": "code",
        "colab": {}
      },
      "cell_type": "code",
      "source": [
        "from sklearn.metrics import mean_squared_error\n",
        "\n",
        "def performance_metric(y_true, y_pred):\n",
        "  return np.sqrt(mean_squared_error(y_true, y_pred))"
      ],
      "execution_count": 0,
      "outputs": []
    },
    {
      "metadata": {
        "id": "Oean5tWJvYa4",
        "colab_type": "code",
        "colab": {}
      },
      "cell_type": "code",
      "source": [
        "from sklearn.metrics import mean_squared_error, make_scorer\n",
        "\n",
        "def performance_metric(y_true, y_pred):\n",
        "  return np.sqrt(mean_squared_error(y_true, y_pred))\n",
        "\n",
        "\n",
        "# scorer = make_scorer(mean_squared_error, greater_is_better = False)\n",
        "\n",
        "# def performance_metric(model, X_train, y_train, scorer):\n",
        "#   rmse = np.sqrt(-cross_val_score(model, X_train, y_train, scoring=scorer, cv=10))\n",
        "#   return rmse"
      ],
      "execution_count": 0,
      "outputs": []
    },
    {
      "metadata": {
        "id": "PACjloh_xbnE",
        "colab_type": "code",
        "colab": {
          "base_uri": "https://localhost:8080/",
          "height": 74
        },
        "outputId": "3873890b-0b12-4881-ff7a-1b8999851081"
      },
      "cell_type": "code",
      "source": [
        "from sklearn.cross_validation import train_test_split\n",
        "\n",
        "features = dummy_data.drop('SalePrice', axis=1)\n",
        "prices = dummy_data['SalePrice']\n",
        "\n",
        "X_train, X_test, y_train, y_test = train_test_split(features, prices, test_size=0.25, random_state=42)"
      ],
      "execution_count": 0,
      "outputs": [
        {
          "output_type": "stream",
          "text": [
            "/usr/local/lib/python3.6/dist-packages/sklearn/cross_validation.py:41: DeprecationWarning: This module was deprecated in version 0.18 in favor of the model_selection module into which all the refactored classes and functions are moved. Also note that the interface of the new CV iterators are different from that of this module. This module will be removed in 0.20.\n",
            "  \"This module will be removed in 0.20.\", DeprecationWarning)\n"
          ],
          "name": "stderr"
        }
      ]
    },
    {
      "metadata": {
        "id": "jZqr7vnuYGf5",
        "colab_type": "code",
        "colab": {}
      },
      "cell_type": "code",
      "source": [
        "def default_model_score(regressor):\n",
        "  regressor.fit(X_train, y_train)\n",
        "  y_pred = regressor.predict(X_test)\n",
        "  \n",
        "  return performance_metric(y_test, y_pred)"
      ],
      "execution_count": 0,
      "outputs": []
    },
    {
      "metadata": {
        "id": "f4HVSvVQEAil",
        "colab_type": "text"
      },
      "cell_type": "markdown",
      "source": [
        "####Benchmark Model"
      ]
    },
    {
      "metadata": {
        "id": "_nmgfhiQD_UK",
        "colab_type": "code",
        "colab": {
          "base_uri": "https://localhost:8080/",
          "height": 35
        },
        "outputId": "bf379606-4d3d-4ada-985b-2f1a73d58806"
      },
      "cell_type": "code",
      "source": [
        "from sklearn.linear_model import LinearRegression\n",
        "\n",
        "lr = LinearRegression()\n",
        "lr"
      ],
      "execution_count": 0,
      "outputs": [
        {
          "output_type": "execute_result",
          "data": {
            "text/plain": [
              "LinearRegression(copy_X=True, fit_intercept=True, n_jobs=1, normalize=False)"
            ]
          },
          "metadata": {
            "tags": []
          },
          "execution_count": 50
        }
      ]
    },
    {
      "metadata": {
        "id": "bBIRUjwfFt33",
        "colab_type": "code",
        "colab": {
          "base_uri": "https://localhost:8080/",
          "height": 35
        },
        "outputId": "0d8e9c16-498d-4fcc-b434-8578febbc51f"
      },
      "cell_type": "code",
      "source": [
        "default_model_score(lr)"
      ],
      "execution_count": 0,
      "outputs": [
        {
          "output_type": "execute_result",
          "data": {
            "text/plain": [
              "0.13267325726118548"
            ]
          },
          "metadata": {
            "tags": []
          },
          "execution_count": 51
        }
      ]
    },
    {
      "metadata": {
        "id": "6R-S-RT8HhwN",
        "colab_type": "text"
      },
      "cell_type": "markdown",
      "source": [
        "####Default Models"
      ]
    },
    {
      "metadata": {
        "id": "QnaBGD48HfpE",
        "colab_type": "code",
        "colab": {
          "base_uri": "https://localhost:8080/",
          "height": 34
        },
        "outputId": "a1d8c957-41be-4fdb-ae43-01db2d63b159"
      },
      "cell_type": "code",
      "source": [
        "from sklearn.linear_model import Ridge\n",
        "\n",
        "r = Ridge()\n",
        "default_model_score(r)"
      ],
      "execution_count": 0,
      "outputs": [
        {
          "output_type": "execute_result",
          "data": {
            "text/plain": [
              "0.12421798468043838"
            ]
          },
          "metadata": {
            "tags": []
          },
          "execution_count": 58
        }
      ]
    },
    {
      "metadata": {
        "id": "O0EINFFwNWbn",
        "colab_type": "code",
        "colab": {
          "base_uri": "https://localhost:8080/",
          "height": 34
        },
        "outputId": "5930cda5-c4ff-4157-f3d3-fc778f226f40"
      },
      "cell_type": "code",
      "source": [
        "from sklearn.linear_model import Lasso\n",
        "\n",
        "l = Lasso()\n",
        "default_model_score(l)"
      ],
      "execution_count": 0,
      "outputs": [
        {
          "output_type": "execute_result",
          "data": {
            "text/plain": [
              "0.2335378992517102"
            ]
          },
          "metadata": {
            "tags": []
          },
          "execution_count": 59
        }
      ]
    },
    {
      "metadata": {
        "id": "02mcTQ74NkA-",
        "colab_type": "code",
        "colab": {
          "base_uri": "https://localhost:8080/",
          "height": 34
        },
        "outputId": "e87815b6-bed0-48f5-aa68-203c6518df50"
      },
      "cell_type": "code",
      "source": [
        "from sklearn.linear_model import ElasticNet\n",
        "\n",
        "en = ElasticNet()\n",
        "default_model_score(en)"
      ],
      "execution_count": 0,
      "outputs": [
        {
          "output_type": "execute_result",
          "data": {
            "text/plain": [
              "0.2290591416107782"
            ]
          },
          "metadata": {
            "tags": []
          },
          "execution_count": 60
        }
      ]
    },
    {
      "metadata": {
        "id": "6l6u-41gmLkm",
        "colab_type": "code",
        "colab": {
          "base_uri": "https://localhost:8080/",
          "height": 34
        },
        "outputId": "da6c4253-3f1c-47c1-cc2f-2552d7696793"
      },
      "cell_type": "code",
      "source": [
        "from sklearn.kernel_ridge import KernelRidge\n",
        "\n",
        "kr = KernelRidge()\n",
        "default_model_score(kr)"
      ],
      "execution_count": 0,
      "outputs": [
        {
          "output_type": "execute_result",
          "data": {
            "text/plain": [
              "0.1250752705275133"
            ]
          },
          "metadata": {
            "tags": []
          },
          "execution_count": 78
        }
      ]
    },
    {
      "metadata": {
        "id": "FuFJNW1_NluC",
        "colab_type": "code",
        "colab": {
          "base_uri": "https://localhost:8080/",
          "height": 88
        },
        "outputId": "9ec6fb0f-2911-48cb-c659-adc2c136295c"
      },
      "cell_type": "code",
      "source": [
        "# from sklearn.linear_model import SGDRegressor\n",
        "\n",
        "# sr = SGDRegressor()\n",
        "# default_model_score(sr)"
      ],
      "execution_count": 0,
      "outputs": [
        {
          "output_type": "stream",
          "text": [
            "/usr/local/lib/python3.6/dist-packages/sklearn/linear_model/stochastic_gradient.py:128: FutureWarning: max_iter and tol parameters have been added in <class 'sklearn.linear_model.stochastic_gradient.SGDRegressor'> in 0.19. If both are left unset, they default to max_iter=5 and tol=None. If tol is not None, max_iter defaults to max_iter=1000. From 0.21, default max_iter will be 1000, and default tol will be 1e-3.\n",
            "  \"and default tol will be 1e-3.\" % type(self), FutureWarning)\n"
          ],
          "name": "stderr"
        },
        {
          "output_type": "execute_result",
          "data": {
            "text/plain": [
              "8974870959715356.0"
            ]
          },
          "metadata": {
            "tags": []
          },
          "execution_count": 61
        }
      ]
    },
    {
      "metadata": {
        "id": "XYYf15XWNpu4",
        "colab_type": "code",
        "colab": {
          "base_uri": "https://localhost:8080/",
          "height": 34
        },
        "outputId": "54023b31-4dd9-4042-93b1-04fc5c6a2015"
      },
      "cell_type": "code",
      "source": [
        "from sklearn.svm import SVR\n",
        "\n",
        "svr = SVR()\n",
        "default_model_score(svr)"
      ],
      "execution_count": 0,
      "outputs": [
        {
          "output_type": "execute_result",
          "data": {
            "text/plain": [
              "0.3828577839342406"
            ]
          },
          "metadata": {
            "tags": []
          },
          "execution_count": 62
        }
      ]
    },
    {
      "metadata": {
        "id": "MrTuZ6x9T39M",
        "colab_type": "code",
        "colab": {
          "base_uri": "https://localhost:8080/",
          "height": 34
        },
        "outputId": "8e5f4722-2caf-41bb-8184-093e3580d7de"
      },
      "cell_type": "code",
      "source": [
        "from sklearn.tree import DecisionTreeRegressor\n",
        "\n",
        "dtr = DecisionTreeRegressor()\n",
        "default_model_score(dtr)"
      ],
      "execution_count": 0,
      "outputs": [
        {
          "output_type": "execute_result",
          "data": {
            "text/plain": [
              "0.22651029695320735"
            ]
          },
          "metadata": {
            "tags": []
          },
          "execution_count": 63
        }
      ]
    },
    {
      "metadata": {
        "id": "DnTYphjdNrzN",
        "colab_type": "code",
        "colab": {
          "base_uri": "https://localhost:8080/",
          "height": 34
        },
        "outputId": "70deba2c-6f29-4c8e-cc7c-d0886f9f905c"
      },
      "cell_type": "code",
      "source": [
        "from sklearn.ensemble import RandomForestRegressor\n",
        "\n",
        "rfr = RandomForestRegressor()\n",
        "default_model_score(rfr)"
      ],
      "execution_count": 0,
      "outputs": [
        {
          "output_type": "execute_result",
          "data": {
            "text/plain": [
              "0.14795604082422023"
            ]
          },
          "metadata": {
            "tags": []
          },
          "execution_count": 64
        }
      ]
    },
    {
      "metadata": {
        "id": "lZiCVJh8NxJc",
        "colab_type": "code",
        "colab": {
          "base_uri": "https://localhost:8080/",
          "height": 34
        },
        "outputId": "6c89c599-cad9-4480-886f-add69ba5cd3c"
      },
      "cell_type": "code",
      "source": [
        "from sklearn.ensemble import GradientBoostingRegressor\n",
        "\n",
        "gbr = GradientBoostingRegressor()\n",
        "default_model_score(gbr)"
      ],
      "execution_count": 0,
      "outputs": [
        {
          "output_type": "execute_result",
          "data": {
            "text/plain": [
              "0.12672833316721926"
            ]
          },
          "metadata": {
            "tags": []
          },
          "execution_count": 65
        }
      ]
    },
    {
      "metadata": {
        "id": "amTK8GyOQHu2",
        "colab_type": "code",
        "colab": {
          "base_uri": "https://localhost:8080/",
          "height": 35
        },
        "outputId": "b431c7e1-56fb-4c6e-bd68-af05cff4b83c"
      },
      "cell_type": "code",
      "source": [
        "import xgboost as xgb\n",
        "\n",
        "xr = xgb.XGBRegressor()\n",
        "default_model_score(xr)"
      ],
      "execution_count": 0,
      "outputs": [
        {
          "output_type": "execute_result",
          "data": {
            "text/plain": [
              "0.12765489665833193"
            ]
          },
          "metadata": {
            "tags": []
          },
          "execution_count": 48
        }
      ]
    },
    {
      "metadata": {
        "id": "kCzMsQFMmcXi",
        "colab_type": "code",
        "colab": {}
      },
      "cell_type": "code",
      "source": [
        "# import lightgbm as lgb\n",
        "\n",
        "# lgbr = lgb.LGBMRegressor()\n",
        "# default_model_score(lgbr)"
      ],
      "execution_count": 0,
      "outputs": []
    },
    {
      "metadata": {
        "id": "f-oQ2JrKUY2F",
        "colab_type": "text"
      },
      "cell_type": "markdown",
      "source": [
        "####Grid Search Models"
      ]
    },
    {
      "metadata": {
        "id": "yWOFKtmzUb4J",
        "colab_type": "code",
        "colab": {}
      },
      "cell_type": "code",
      "source": [
        "from sklearn.model_selection import GridSearchCV\n",
        "\n",
        "nr_cv = 5\n",
        "score_calc = 'neg_mean_squared_error'"
      ],
      "execution_count": 0,
      "outputs": []
    },
    {
      "metadata": {
        "id": "7HKrHM62XdNX",
        "colab_type": "code",
        "colab": {}
      },
      "cell_type": "code",
      "source": [
        "def get_best_score(grid):\n",
        "  best_score = np.sqrt(-grid.best_score_)\n",
        "  print(best_score)    \n",
        "  print(grid.best_params_)\n",
        "  print(grid.best_estimator_)\n",
        "  return best_score"
      ],
      "execution_count": 0,
      "outputs": []
    },
    {
      "metadata": {
        "id": "x2KNU7tRaNT6",
        "colab_type": "code",
        "colab": {}
      },
      "cell_type": "code",
      "source": [
        "def cv_model_score(regressor, params, verbose=1):\n",
        "  grid_cv = GridSearchCV(regressor, params, cv=nr_cv, verbose=verbose, scoring=score_calc)\n",
        "  grid_cv.fit(X_train, y_train)\n",
        "  return get_best_score(grid_cv)"
      ],
      "execution_count": 0,
      "outputs": []
    },
    {
      "metadata": {
        "id": "3c_zQ7jlewbZ",
        "colab_type": "code",
        "colab": {}
      },
      "cell_type": "code",
      "source": [
        ""
      ],
      "execution_count": 0,
      "outputs": []
    },
    {
      "metadata": {
        "id": "tz9dpIFnaps8",
        "colab_type": "code",
        "colab": {
          "base_uri": "https://localhost:8080/",
          "height": 126
        },
        "outputId": "fe8a27b6-a17e-4fbe-93c9-6a78e052edf4"
      },
      "cell_type": "code",
      "source": [
        "lr = LinearRegression()\n",
        "parameters = {'fit_intercept':[True,False], 'normalize':[True,False], 'copy_X':[True, False]}\n",
        "cv_model_score(lr, parameters)"
      ],
      "execution_count": 0,
      "outputs": [
        {
          "output_type": "stream",
          "text": [
            "Fitting 5 folds for each of 8 candidates, totalling 40 fits\n",
            "0.13482320989084176\n",
            "{'copy_X': True, 'fit_intercept': False, 'normalize': True}\n",
            "LinearRegression(copy_X=True, fit_intercept=False, n_jobs=1, normalize=True)\n"
          ],
          "name": "stdout"
        },
        {
          "output_type": "stream",
          "text": [
            "[Parallel(n_jobs=1)]: Done  40 out of  40 | elapsed:    5.2s finished\n"
          ],
          "name": "stderr"
        },
        {
          "output_type": "execute_result",
          "data": {
            "text/plain": [
              "0.13482320989084176"
            ]
          },
          "metadata": {
            "tags": []
          },
          "execution_count": 47
        }
      ]
    },
    {
      "metadata": {
        "id": "PAFfD2o-UcQv",
        "colab_type": "code",
        "colab": {
          "base_uri": "https://localhost:8080/",
          "height": 136
        },
        "outputId": "c0dd5d93-2802-4cb1-f67e-37e0a7f15ecf"
      },
      "cell_type": "code",
      "source": [
        "r = Ridge()\n",
        "parameters = {'alpha':[0.001,0.005,0.01,0.1,0.5,1], 'normalize':[True,False], 'tol':[1e-06,5e-06,1e-05,5e-05]}\n",
        "# RidgeCV(alphas = [0.01, 0.03, 0.06, 0.1, 0.3, 0.6, 1, 3, 6, 10, 30, 60])\n",
        "cv_model_score(r, parameters)"
      ],
      "execution_count": 0,
      "outputs": [
        {
          "output_type": "stream",
          "text": [
            "Fitting 5 folds for each of 48 candidates, totalling 240 fits\n",
            "0.12454128316129799\n",
            "{'alpha': 1, 'normalize': False, 'tol': 1e-06}\n",
            "Ridge(alpha=1, copy_X=True, fit_intercept=True, max_iter=None,\n",
            "   normalize=False, random_state=None, solver='auto', tol=1e-06)\n"
          ],
          "name": "stdout"
        },
        {
          "output_type": "stream",
          "text": [
            "[Parallel(n_jobs=1)]: Done 240 out of 240 | elapsed:    9.7s finished\n"
          ],
          "name": "stderr"
        },
        {
          "output_type": "execute_result",
          "data": {
            "text/plain": [
              "0.12454128316129799"
            ]
          },
          "metadata": {
            "tags": []
          },
          "execution_count": 71
        }
      ]
    },
    {
      "metadata": {
        "id": "aptdboUJbJIm",
        "colab_type": "code",
        "colab": {
          "base_uri": "https://localhost:8080/",
          "height": 153
        },
        "outputId": "d4719529-b27e-46f7-d957-8e57e0541a13"
      },
      "cell_type": "code",
      "source": [
        "l = Lasso()\n",
        "parameters = {'alpha':[1e-03,0.01,0.1,0.5,0.8,1], 'normalize':[True,False], 'tol':[1e-06,1e-05,5e-05,1e-04,5e-04,1e-03]}\n",
        "#LassoCV(alphas = [0.0001, 0.0003, 0.0006, 0.001, 0.003, 0.006, 0.01, 0.03, 0.06, 0.1, 0.3, 0.6, 1], max_iter = 50000, cv = 10)\n",
        "cv_model_score(l, parameters)"
      ],
      "execution_count": 0,
      "outputs": [
        {
          "output_type": "stream",
          "text": [
            "Fitting 5 folds for each of 72 candidates, totalling 360 fits\n",
            "0.12179121844969365\n",
            "{'alpha': 0.001, 'normalize': False, 'tol': 0.001}\n",
            "Lasso(alpha=0.001, copy_X=True, fit_intercept=True, max_iter=1000,\n",
            "   normalize=False, positive=False, precompute=False, random_state=None,\n",
            "   selection='cyclic', tol=0.001, warm_start=False)\n"
          ],
          "name": "stdout"
        },
        {
          "output_type": "stream",
          "text": [
            "[Parallel(n_jobs=1)]: Done 360 out of 360 | elapsed:    6.8s finished\n"
          ],
          "name": "stderr"
        },
        {
          "output_type": "execute_result",
          "data": {
            "text/plain": [
              "0.12179121844969365"
            ]
          },
          "metadata": {
            "tags": []
          },
          "execution_count": 72
        }
      ]
    },
    {
      "metadata": {
        "id": "jGByYTwubJQ7",
        "colab_type": "code",
        "colab": {
          "base_uri": "https://localhost:8080/",
          "height": 153
        },
        "outputId": "6f714116-db7f-4d80-a0e3-3202cd36b73c"
      },
      "cell_type": "code",
      "source": [
        "en = ElasticNet()\n",
        "parameters = {'alpha' :[0.1,1.0,10], 'max_iter' :[1000000], 'l1_ratio':[0.04,0.05], \n",
        "              'fit_intercept' : [False,True], 'normalize':[True,False], 'tol':[1e-02,1e-03,1e-04]}\n",
        "cv_model_score(en, parameters)"
      ],
      "execution_count": 0,
      "outputs": [
        {
          "output_type": "stream",
          "text": [
            "Fitting 5 folds for each of 72 candidates, totalling 360 fits\n",
            "0.14380302142128623\n",
            "{'alpha': 0.1, 'fit_intercept': True, 'l1_ratio': 0.04, 'max_iter': 1000000, 'normalize': False, 'tol': 0.01}\n",
            "ElasticNet(alpha=0.1, copy_X=True, fit_intercept=True, l1_ratio=0.04,\n",
            "      max_iter=1000000, normalize=False, positive=False, precompute=False,\n",
            "      random_state=None, selection='cyclic', tol=0.01, warm_start=False)\n"
          ],
          "name": "stdout"
        },
        {
          "output_type": "stream",
          "text": [
            "[Parallel(n_jobs=1)]: Done 360 out of 360 | elapsed:  4.4min finished\n"
          ],
          "name": "stderr"
        },
        {
          "output_type": "execute_result",
          "data": {
            "text/plain": [
              "0.14380302142128623"
            ]
          },
          "metadata": {
            "tags": []
          },
          "execution_count": 73
        }
      ]
    },
    {
      "metadata": {
        "id": "SY_AxjA8bJWK",
        "colab_type": "code",
        "colab": {
          "base_uri": "https://localhost:8080/",
          "height": 187
        },
        "outputId": "d3c81277-5f90-4a7d-9cc0-d02d9651664a"
      },
      "cell_type": "code",
      "source": [
        "# sr = SGDRegressor()\n",
        "# parameters = {'max_iter' :[10000], 'alpha':[1e-06,1e-05], 'epsilon':[1e-03,1e-02], 'fit_intercept' : [True]  }\n",
        "# cv_model_score(sr, parameters)"
      ],
      "execution_count": 0,
      "outputs": [
        {
          "output_type": "stream",
          "text": [
            "Fitting 5 folds for each of 4 candidates, totalling 20 fits\n"
          ],
          "name": "stdout"
        },
        {
          "output_type": "stream",
          "text": [
            "[Parallel(n_jobs=1)]: Done  20 out of  20 | elapsed:  2.9min finished\n"
          ],
          "name": "stderr"
        },
        {
          "output_type": "stream",
          "text": [
            "1535177601844466.0\n",
            "{'alpha': 1e-05, 'epsilon': 0.001, 'fit_intercept': True, 'max_iter': 10000}\n",
            "SGDRegressor(alpha=1e-05, average=False, epsilon=0.001, eta0=0.01,\n",
            "       fit_intercept=True, l1_ratio=0.15, learning_rate='invscaling',\n",
            "       loss='squared_loss', max_iter=10000, n_iter=None, penalty='l2',\n",
            "       power_t=0.25, random_state=None, shuffle=True, tol=None, verbose=0,\n",
            "       warm_start=False)\n"
          ],
          "name": "stdout"
        },
        {
          "output_type": "execute_result",
          "data": {
            "text/plain": [
              "1535177601844466.0"
            ]
          },
          "metadata": {
            "tags": []
          },
          "execution_count": 209
        }
      ]
    },
    {
      "metadata": {
        "id": "DuBdxvCbc33D",
        "colab_type": "code",
        "colab": {
          "base_uri": "https://localhost:8080/",
          "height": 136
        },
        "outputId": "0546db1f-2ca2-49bf-cb25-54985d75cc22"
      },
      "cell_type": "code",
      "source": [
        "svr = SVR()\n",
        "parameters = {'C': [100000,300000,400000,500000,600000,800000], 'gamma': [0.1, 0.07, 0.05, 0.04, 0.03, 0.02, 0.01, 0.007,0.005], 'kernel': ['rbf']}\n",
        "cv_model_score(svr, parameters)"
      ],
      "execution_count": 0,
      "outputs": [
        {
          "output_type": "stream",
          "text": [
            "Fitting 5 folds for each of 54 candidates, totalling 270 fits\n"
          ],
          "name": "stdout"
        },
        {
          "output_type": "stream",
          "text": [
            "[Parallel(n_jobs=1)]: Done 270 out of 270 | elapsed:  2.1min finished\n"
          ],
          "name": "stderr"
        },
        {
          "output_type": "stream",
          "text": [
            "0.38752173582301414\n",
            "{'C': 100000, 'gamma': 0.005, 'kernel': 'rbf'}\n",
            "SVR(C=100000, cache_size=200, coef0=0.0, degree=3, epsilon=0.1, gamma=0.005,\n",
            "  kernel='rbf', max_iter=-1, shrinking=True, tol=0.001, verbose=False)\n"
          ],
          "name": "stdout"
        },
        {
          "output_type": "execute_result",
          "data": {
            "text/plain": [
              "0.38752173582301414"
            ]
          },
          "metadata": {
            "tags": []
          },
          "execution_count": 77
        }
      ]
    },
    {
      "metadata": {
        "id": "KKSgpEMDbJPP",
        "colab_type": "code",
        "colab": {
          "base_uri": "https://localhost:8080/",
          "height": 187
        },
        "outputId": "83860877-0b87-4337-abf8-821a38b8a9ab"
      },
      "cell_type": "code",
      "source": [
        "dr = DecisionTreeRegressor()\n",
        "parameters = { 'max_depth' : [None, 6,7,8] , 'max_features' : [None,10,11,12,14] ,\n",
        "               'max_leaf_nodes' : [None, 8,10,12,15] ,'min_samples_split' : [15,20,25,30]}\n",
        "cv_model_score(dr, parameters)"
      ],
      "execution_count": 0,
      "outputs": [
        {
          "output_type": "stream",
          "text": [
            "Fitting 5 folds for each of 400 candidates, totalling 2000 fits\n",
            "0.19937324742749535\n",
            "{'max_depth': 7, 'max_features': None, 'max_leaf_nodes': None, 'min_samples_split': 15}\n",
            "DecisionTreeRegressor(criterion='mse', max_depth=7, max_features=None,\n",
            "           max_leaf_nodes=None, min_impurity_decrease=0.0,\n",
            "           min_impurity_split=None, min_samples_leaf=1,\n",
            "           min_samples_split=15, min_weight_fraction_leaf=0.0,\n",
            "           presort=False, random_state=None, splitter='best')\n"
          ],
          "name": "stdout"
        },
        {
          "output_type": "stream",
          "text": [
            "[Parallel(n_jobs=1)]: Done 2000 out of 2000 | elapsed:   14.3s finished\n"
          ],
          "name": "stderr"
        },
        {
          "output_type": "execute_result",
          "data": {
            "text/plain": [
              "0.19937324742749535"
            ]
          },
          "metadata": {
            "tags": []
          },
          "execution_count": 74
        }
      ]
    },
    {
      "metadata": {
        "id": "47QaGSazbJMz",
        "colab_type": "code",
        "colab": {
          "base_uri": "https://localhost:8080/",
          "height": 204
        },
        "outputId": "8050bf00-5417-4b3a-95f0-e13b0b1902f8"
      },
      "cell_type": "code",
      "source": [
        "rfr = RandomForestRegressor()\n",
        "parameters = {'min_samples_split' : [3,4,6,10], 'n_estimators' : [70,100], 'random_state': [5] }\n",
        "cv_model_score(rfr, parameters)"
      ],
      "execution_count": 0,
      "outputs": [
        {
          "output_type": "stream",
          "text": [
            "Fitting 5 folds for each of 8 candidates, totalling 40 fits\n"
          ],
          "name": "stdout"
        },
        {
          "output_type": "stream",
          "text": [
            "[Parallel(n_jobs=1)]: Done  40 out of  40 | elapsed:   45.5s finished\n"
          ],
          "name": "stderr"
        },
        {
          "output_type": "stream",
          "text": [
            "0.1447086798391931\n",
            "{'min_samples_split': 3, 'n_estimators': 70, 'random_state': 5}\n",
            "RandomForestRegressor(bootstrap=True, criterion='mse', max_depth=None,\n",
            "           max_features='auto', max_leaf_nodes=None,\n",
            "           min_impurity_decrease=0.0, min_impurity_split=None,\n",
            "           min_samples_leaf=1, min_samples_split=3,\n",
            "           min_weight_fraction_leaf=0.0, n_estimators=70, n_jobs=1,\n",
            "           oob_score=False, random_state=5, verbose=0, warm_start=False)\n"
          ],
          "name": "stdout"
        },
        {
          "output_type": "execute_result",
          "data": {
            "text/plain": [
              "0.1447086798391931"
            ]
          },
          "metadata": {
            "tags": []
          },
          "execution_count": 75
        }
      ]
    },
    {
      "metadata": {
        "id": "GaD6YvsndO8r",
        "colab_type": "code",
        "colab": {
          "base_uri": "https://localhost:8080/",
          "height": 221
        },
        "outputId": "75f75c6d-8a1d-4274-d754-14f549fc68bf"
      },
      "cell_type": "code",
      "source": [
        "gbr = GradientBoostingRegressor()\n",
        "parameters = {'n_estimators':[100], 'learning_rate':[0.1, 0.05, 0.02, 0.01], 'max_depth':[4,6], 'min_samples_leaf':[3,5,9,17], 'max_features':[1.0, 0.3, 0.1]}\n",
        "cv_model_score(gbr, parameters)"
      ],
      "execution_count": 0,
      "outputs": [
        {
          "output_type": "stream",
          "text": [
            "Fitting 5 folds for each of 96 candidates, totalling 480 fits\n",
            "0.1282488583634984\n",
            "{'learning_rate': 0.1, 'max_depth': 4, 'max_features': 0.1, 'min_samples_leaf': 5, 'n_estimators': 100}\n",
            "GradientBoostingRegressor(alpha=0.9, criterion='friedman_mse', init=None,\n",
            "             learning_rate=0.1, loss='ls', max_depth=4, max_features=0.1,\n",
            "             max_leaf_nodes=None, min_impurity_decrease=0.0,\n",
            "             min_impurity_split=None, min_samples_leaf=5,\n",
            "             min_samples_split=2, min_weight_fraction_leaf=0.0,\n",
            "             n_estimators=100, presort='auto', random_state=None,\n",
            "             subsample=1.0, verbose=0, warm_start=False)\n"
          ],
          "name": "stdout"
        },
        {
          "output_type": "stream",
          "text": [
            "[Parallel(n_jobs=1)]: Done 480 out of 480 | elapsed:  5.4min finished\n"
          ],
          "name": "stderr"
        },
        {
          "output_type": "execute_result",
          "data": {
            "text/plain": [
              "0.1282488583634984"
            ]
          },
          "metadata": {
            "tags": []
          },
          "execution_count": 80
        }
      ]
    },
    {
      "metadata": {
        "id": "8vCgIx77l4FE",
        "colab_type": "code",
        "colab": {
          "base_uri": "https://localhost:8080/",
          "height": 7616
        },
        "outputId": "c934004d-fc30-416f-f87b-a0a6036e7714"
      },
      "cell_type": "code",
      "source": [
        "kr = KernelRidge()\n",
        "parameters = {'alpha':[0.4, 0.6], 'kernel':['linear', 'polynomial'], 'degree':[2,3,4,5], 'coef0':[1,1.5,2,2.5]}\n",
        "cv_model_score(kr, parameters)"
      ],
      "execution_count": 0,
      "outputs": [
        {
          "output_type": "stream",
          "text": [
            "Fitting 5 folds for each of 64 candidates, totalling 320 fits\n"
          ],
          "name": "stdout"
        },
        {
          "output_type": "stream",
          "text": [
            "/usr/local/lib/python3.6/dist-packages/scipy/linalg/basic.py:223: RuntimeWarning: scipy.linalg.solve\n",
            "Ill-conditioned matrix detected. Result is not guaranteed to be accurate.\n",
            "Reciprocal condition number: 3.961615096515463e-17\n",
            "  ' condition number: {}'.format(rcond), RuntimeWarning)\n",
            "/usr/local/lib/python3.6/dist-packages/scipy/linalg/basic.py:223: RuntimeWarning: scipy.linalg.solve\n",
            "Ill-conditioned matrix detected. Result is not guaranteed to be accurate.\n",
            "Reciprocal condition number: 1.670680116442297e-17\n",
            "  ' condition number: {}'.format(rcond), RuntimeWarning)\n",
            "/usr/local/lib/python3.6/dist-packages/scipy/linalg/basic.py:223: RuntimeWarning: scipy.linalg.solve\n",
            "Ill-conditioned matrix detected. Result is not guaranteed to be accurate.\n",
            "Reciprocal condition number: 2.2815987058721827e-17\n",
            "  ' condition number: {}'.format(rcond), RuntimeWarning)\n",
            "/usr/local/lib/python3.6/dist-packages/scipy/linalg/basic.py:223: RuntimeWarning: scipy.linalg.solve\n",
            "Ill-conditioned matrix detected. Result is not guaranteed to be accurate.\n",
            "Reciprocal condition number: 1.742383762538594e-17\n",
            "  ' condition number: {}'.format(rcond), RuntimeWarning)\n",
            "/usr/local/lib/python3.6/dist-packages/scipy/linalg/basic.py:223: RuntimeWarning: scipy.linalg.solve\n",
            "Ill-conditioned matrix detected. Result is not guaranteed to be accurate.\n",
            "Reciprocal condition number: 1.627468498966622e-17\n",
            "  ' condition number: {}'.format(rcond), RuntimeWarning)\n",
            "/usr/local/lib/python3.6/dist-packages/scipy/linalg/basic.py:223: RuntimeWarning: scipy.linalg.solve\n",
            "Ill-conditioned matrix detected. Result is not guaranteed to be accurate.\n",
            "Reciprocal condition number: 1.0817130051106911e-16\n",
            "  ' condition number: {}'.format(rcond), RuntimeWarning)\n",
            "/usr/local/lib/python3.6/dist-packages/scipy/linalg/basic.py:223: RuntimeWarning: scipy.linalg.solve\n",
            "Ill-conditioned matrix detected. Result is not guaranteed to be accurate.\n",
            "Reciprocal condition number: 4.416784787899479e-17\n",
            "  ' condition number: {}'.format(rcond), RuntimeWarning)\n",
            "/usr/local/lib/python3.6/dist-packages/scipy/linalg/basic.py:223: RuntimeWarning: scipy.linalg.solve\n",
            "Ill-conditioned matrix detected. Result is not guaranteed to be accurate.\n",
            "Reciprocal condition number: 4.71825927158808e-17\n",
            "  ' condition number: {}'.format(rcond), RuntimeWarning)\n",
            "/usr/local/lib/python3.6/dist-packages/scipy/linalg/basic.py:223: RuntimeWarning: scipy.linalg.solve\n",
            "Ill-conditioned matrix detected. Result is not guaranteed to be accurate.\n",
            "Reciprocal condition number: 3.728909443794014e-17\n",
            "  ' condition number: {}'.format(rcond), RuntimeWarning)\n",
            "/usr/local/lib/python3.6/dist-packages/scipy/linalg/basic.py:223: RuntimeWarning: scipy.linalg.solve\n",
            "Ill-conditioned matrix detected. Result is not guaranteed to be accurate.\n",
            "Reciprocal condition number: 8.297029412475595e-17\n",
            "  ' condition number: {}'.format(rcond), RuntimeWarning)\n",
            "/usr/local/lib/python3.6/dist-packages/scipy/linalg/basic.py:223: RuntimeWarning: scipy.linalg.solve\n",
            "Ill-conditioned matrix detected. Result is not guaranteed to be accurate.\n",
            "Reciprocal condition number: 1.0827164403966394e-16\n",
            "  ' condition number: {}'.format(rcond), RuntimeWarning)\n",
            "/usr/local/lib/python3.6/dist-packages/scipy/linalg/basic.py:223: RuntimeWarning: scipy.linalg.solve\n",
            "Ill-conditioned matrix detected. Result is not guaranteed to be accurate.\n",
            "Reciprocal condition number: 8.65591798280906e-17\n",
            "  ' condition number: {}'.format(rcond), RuntimeWarning)\n",
            "/usr/local/lib/python3.6/dist-packages/scipy/linalg/basic.py:223: RuntimeWarning: scipy.linalg.solve\n",
            "Ill-conditioned matrix detected. Result is not guaranteed to be accurate.\n",
            "Reciprocal condition number: 6.923989431147466e-17\n",
            "  ' condition number: {}'.format(rcond), RuntimeWarning)\n",
            "/usr/local/lib/python3.6/dist-packages/scipy/linalg/basic.py:223: RuntimeWarning: scipy.linalg.solve\n",
            "Ill-conditioned matrix detected. Result is not guaranteed to be accurate.\n",
            "Reciprocal condition number: 3.98454520175288e-17\n",
            "  ' condition number: {}'.format(rcond), RuntimeWarning)\n",
            "/usr/local/lib/python3.6/dist-packages/scipy/linalg/basic.py:223: RuntimeWarning: scipy.linalg.solve\n",
            "Ill-conditioned matrix detected. Result is not guaranteed to be accurate.\n",
            "Reciprocal condition number: 1.656999727669535e-17\n",
            "  ' condition number: {}'.format(rcond), RuntimeWarning)\n",
            "/usr/local/lib/python3.6/dist-packages/scipy/linalg/basic.py:223: RuntimeWarning: scipy.linalg.solve\n",
            "Ill-conditioned matrix detected. Result is not guaranteed to be accurate.\n",
            "Reciprocal condition number: 2.2922273736956245e-17\n",
            "  ' condition number: {}'.format(rcond), RuntimeWarning)\n",
            "/usr/local/lib/python3.6/dist-packages/scipy/linalg/basic.py:223: RuntimeWarning: scipy.linalg.solve\n",
            "Ill-conditioned matrix detected. Result is not guaranteed to be accurate.\n",
            "Reciprocal condition number: 1.763410479854981e-17\n",
            "  ' condition number: {}'.format(rcond), RuntimeWarning)\n",
            "/usr/local/lib/python3.6/dist-packages/scipy/linalg/basic.py:223: RuntimeWarning: scipy.linalg.solve\n",
            "Ill-conditioned matrix detected. Result is not guaranteed to be accurate.\n",
            "Reciprocal condition number: 1.6316119652970694e-17\n",
            "  ' condition number: {}'.format(rcond), RuntimeWarning)\n",
            "/usr/local/lib/python3.6/dist-packages/scipy/linalg/basic.py:223: RuntimeWarning: scipy.linalg.solve\n",
            "Ill-conditioned matrix detected. Result is not guaranteed to be accurate.\n",
            "Reciprocal condition number: 1.0839123575793553e-16\n",
            "  ' condition number: {}'.format(rcond), RuntimeWarning)\n",
            "/usr/local/lib/python3.6/dist-packages/scipy/linalg/basic.py:223: RuntimeWarning: scipy.linalg.solve\n",
            "Ill-conditioned matrix detected. Result is not guaranteed to be accurate.\n",
            "Reciprocal condition number: 4.425305516439166e-17\n",
            "  ' condition number: {}'.format(rcond), RuntimeWarning)\n",
            "/usr/local/lib/python3.6/dist-packages/scipy/linalg/basic.py:223: RuntimeWarning: scipy.linalg.solve\n",
            "Ill-conditioned matrix detected. Result is not guaranteed to be accurate.\n",
            "Reciprocal condition number: 5.952692299824518e-17\n",
            "  ' condition number: {}'.format(rcond), RuntimeWarning)\n",
            "/usr/local/lib/python3.6/dist-packages/scipy/linalg/basic.py:223: RuntimeWarning: scipy.linalg.solve\n",
            "Ill-conditioned matrix detected. Result is not guaranteed to be accurate.\n",
            "Reciprocal condition number: 4.7331937034193295e-17\n",
            "  ' condition number: {}'.format(rcond), RuntimeWarning)\n",
            "/usr/local/lib/python3.6/dist-packages/scipy/linalg/basic.py:223: RuntimeWarning: scipy.linalg.solve\n",
            "Ill-conditioned matrix detected. Result is not guaranteed to be accurate.\n",
            "Reciprocal condition number: 3.730788977650603e-17\n",
            "  ' condition number: {}'.format(rcond), RuntimeWarning)\n",
            "/usr/local/lib/python3.6/dist-packages/scipy/linalg/basic.py:223: RuntimeWarning: scipy.linalg.solve\n",
            "Ill-conditioned matrix detected. Result is not guaranteed to be accurate.\n",
            "Reciprocal condition number: 8.305908547973333e-17\n",
            "  ' condition number: {}'.format(rcond), RuntimeWarning)\n",
            "/usr/local/lib/python3.6/dist-packages/scipy/linalg/basic.py:223: RuntimeWarning: scipy.linalg.solve\n",
            "Ill-conditioned matrix detected. Result is not guaranteed to be accurate.\n",
            "Reciprocal condition number: 1.0877388819364528e-16\n",
            "  ' condition number: {}'.format(rcond), RuntimeWarning)\n",
            "/usr/local/lib/python3.6/dist-packages/scipy/linalg/basic.py:223: RuntimeWarning: scipy.linalg.solve\n",
            "Ill-conditioned matrix detected. Result is not guaranteed to be accurate.\n",
            "Reciprocal condition number: 8.659341822450008e-17\n",
            "  ' condition number: {}'.format(rcond), RuntimeWarning)\n",
            "/usr/local/lib/python3.6/dist-packages/scipy/linalg/basic.py:223: RuntimeWarning: scipy.linalg.solve\n",
            "Ill-conditioned matrix detected. Result is not guaranteed to be accurate.\n",
            "Reciprocal condition number: 6.927948187030497e-17\n",
            "  ' condition number: {}'.format(rcond), RuntimeWarning)\n",
            "/usr/local/lib/python3.6/dist-packages/scipy/linalg/basic.py:223: RuntimeWarning: scipy.linalg.solve\n",
            "Ill-conditioned matrix detected. Result is not guaranteed to be accurate.\n",
            "Reciprocal condition number: 3.971699330592716e-17\n",
            "  ' condition number: {}'.format(rcond), RuntimeWarning)\n",
            "/usr/local/lib/python3.6/dist-packages/scipy/linalg/basic.py:223: RuntimeWarning: scipy.linalg.solve\n",
            "Ill-conditioned matrix detected. Result is not guaranteed to be accurate.\n",
            "Reciprocal condition number: 1.6570498794386307e-17\n",
            "  ' condition number: {}'.format(rcond), RuntimeWarning)\n",
            "/usr/local/lib/python3.6/dist-packages/scipy/linalg/basic.py:223: RuntimeWarning: scipy.linalg.solve\n",
            "Ill-conditioned matrix detected. Result is not guaranteed to be accurate.\n",
            "Reciprocal condition number: 2.2582222455508906e-17\n",
            "  ' condition number: {}'.format(rcond), RuntimeWarning)\n",
            "/usr/local/lib/python3.6/dist-packages/scipy/linalg/basic.py:223: RuntimeWarning: scipy.linalg.solve\n",
            "Ill-conditioned matrix detected. Result is not guaranteed to be accurate.\n",
            "Reciprocal condition number: 1.75427498281611e-17\n",
            "  ' condition number: {}'.format(rcond), RuntimeWarning)\n",
            "/usr/local/lib/python3.6/dist-packages/scipy/linalg/basic.py:223: RuntimeWarning: scipy.linalg.solve\n",
            "Ill-conditioned matrix detected. Result is not guaranteed to be accurate.\n",
            "Reciprocal condition number: 1.641918491783566e-17\n",
            "  ' condition number: {}'.format(rcond), RuntimeWarning)\n",
            "/usr/local/lib/python3.6/dist-packages/scipy/linalg/basic.py:223: RuntimeWarning: scipy.linalg.solve\n",
            "Ill-conditioned matrix detected. Result is not guaranteed to be accurate.\n",
            "Reciprocal condition number: 1.0835334900694694e-16\n",
            "  ' condition number: {}'.format(rcond), RuntimeWarning)\n",
            "/usr/local/lib/python3.6/dist-packages/scipy/linalg/basic.py:223: RuntimeWarning: scipy.linalg.solve\n",
            "Ill-conditioned matrix detected. Result is not guaranteed to be accurate.\n",
            "Reciprocal condition number: 4.405612379046859e-17\n",
            "  ' condition number: {}'.format(rcond), RuntimeWarning)\n",
            "/usr/local/lib/python3.6/dist-packages/scipy/linalg/basic.py:223: RuntimeWarning: scipy.linalg.solve\n",
            "Ill-conditioned matrix detected. Result is not guaranteed to be accurate.\n",
            "Reciprocal condition number: 5.981715742230781e-17\n",
            "  ' condition number: {}'.format(rcond), RuntimeWarning)\n",
            "/usr/local/lib/python3.6/dist-packages/scipy/linalg/basic.py:223: RuntimeWarning: scipy.linalg.solve\n",
            "Ill-conditioned matrix detected. Result is not guaranteed to be accurate.\n",
            "Reciprocal condition number: 4.739370467882928e-17\n",
            "  ' condition number: {}'.format(rcond), RuntimeWarning)\n",
            "/usr/local/lib/python3.6/dist-packages/scipy/linalg/basic.py:223: RuntimeWarning: scipy.linalg.solve\n",
            "Ill-conditioned matrix detected. Result is not guaranteed to be accurate.\n",
            "Reciprocal condition number: 3.733168283154598e-17\n",
            "  ' condition number: {}'.format(rcond), RuntimeWarning)\n",
            "/usr/local/lib/python3.6/dist-packages/scipy/linalg/basic.py:223: RuntimeWarning: scipy.linalg.solve\n",
            "Ill-conditioned matrix detected. Result is not guaranteed to be accurate.\n",
            "Reciprocal condition number: 8.236036618466991e-17\n",
            "  ' condition number: {}'.format(rcond), RuntimeWarning)\n",
            "/usr/local/lib/python3.6/dist-packages/scipy/linalg/basic.py:223: RuntimeWarning: scipy.linalg.solve\n",
            "Ill-conditioned matrix detected. Result is not guaranteed to be accurate.\n",
            "Reciprocal condition number: 1.0918128439262209e-16\n",
            "  ' condition number: {}'.format(rcond), RuntimeWarning)\n",
            "/usr/local/lib/python3.6/dist-packages/scipy/linalg/basic.py:223: RuntimeWarning: scipy.linalg.solve\n",
            "Ill-conditioned matrix detected. Result is not guaranteed to be accurate.\n",
            "Reciprocal condition number: 8.696768329969555e-17\n",
            "  ' condition number: {}'.format(rcond), RuntimeWarning)\n",
            "/usr/local/lib/python3.6/dist-packages/scipy/linalg/basic.py:223: RuntimeWarning: scipy.linalg.solve\n",
            "Ill-conditioned matrix detected. Result is not guaranteed to be accurate.\n",
            "Reciprocal condition number: 6.957900047861744e-17\n",
            "  ' condition number: {}'.format(rcond), RuntimeWarning)\n",
            "/usr/local/lib/python3.6/dist-packages/scipy/linalg/basic.py:223: RuntimeWarning: scipy.linalg.solve\n",
            "Ill-conditioned matrix detected. Result is not guaranteed to be accurate.\n",
            "Reciprocal condition number: 3.986057404352706e-17\n",
            "  ' condition number: {}'.format(rcond), RuntimeWarning)\n",
            "/usr/local/lib/python3.6/dist-packages/scipy/linalg/basic.py:223: RuntimeWarning: scipy.linalg.solve\n",
            "Ill-conditioned matrix detected. Result is not guaranteed to be accurate.\n",
            "Reciprocal condition number: 1.6698361866004722e-17\n",
            "  ' condition number: {}'.format(rcond), RuntimeWarning)\n",
            "/usr/local/lib/python3.6/dist-packages/scipy/linalg/basic.py:223: RuntimeWarning: scipy.linalg.solve\n",
            "Ill-conditioned matrix detected. Result is not guaranteed to be accurate.\n",
            "Reciprocal condition number: 2.2923884529942372e-17\n",
            "  ' condition number: {}'.format(rcond), RuntimeWarning)\n",
            "/usr/local/lib/python3.6/dist-packages/scipy/linalg/basic.py:223: RuntimeWarning: scipy.linalg.solve\n",
            "Ill-conditioned matrix detected. Result is not guaranteed to be accurate.\n",
            "Reciprocal condition number: 1.7388359976512033e-17\n",
            "  ' condition number: {}'.format(rcond), RuntimeWarning)\n",
            "/usr/local/lib/python3.6/dist-packages/scipy/linalg/basic.py:223: RuntimeWarning: scipy.linalg.solve\n",
            "Ill-conditioned matrix detected. Result is not guaranteed to be accurate.\n",
            "Reciprocal condition number: 1.618786225393397e-17\n",
            "  ' condition number: {}'.format(rcond), RuntimeWarning)\n",
            "/usr/local/lib/python3.6/dist-packages/scipy/linalg/basic.py:223: RuntimeWarning: scipy.linalg.solve\n",
            "Ill-conditioned matrix detected. Result is not guaranteed to be accurate.\n",
            "Reciprocal condition number: 1.0853662785463385e-16\n",
            "  ' condition number: {}'.format(rcond), RuntimeWarning)\n",
            "/usr/local/lib/python3.6/dist-packages/scipy/linalg/basic.py:223: RuntimeWarning: scipy.linalg.solve\n",
            "Ill-conditioned matrix detected. Result is not guaranteed to be accurate.\n",
            "Reciprocal condition number: 4.418609168992605e-17\n",
            "  ' condition number: {}'.format(rcond), RuntimeWarning)\n",
            "/usr/local/lib/python3.6/dist-packages/scipy/linalg/basic.py:223: RuntimeWarning: scipy.linalg.solve\n",
            "Ill-conditioned matrix detected. Result is not guaranteed to be accurate.\n",
            "Reciprocal condition number: 6.01427194820029e-17\n",
            "  ' condition number: {}'.format(rcond), RuntimeWarning)\n",
            "/usr/local/lib/python3.6/dist-packages/scipy/linalg/basic.py:223: RuntimeWarning: scipy.linalg.solve\n",
            "Ill-conditioned matrix detected. Result is not guaranteed to be accurate.\n",
            "Reciprocal condition number: 4.743319818216247e-17\n",
            "  ' condition number: {}'.format(rcond), RuntimeWarning)\n",
            "/usr/local/lib/python3.6/dist-packages/scipy/linalg/basic.py:223: RuntimeWarning: scipy.linalg.solve\n",
            "Ill-conditioned matrix detected. Result is not guaranteed to be accurate.\n",
            "Reciprocal condition number: 3.7586606487667285e-17\n",
            "  ' condition number: {}'.format(rcond), RuntimeWarning)\n",
            "/usr/local/lib/python3.6/dist-packages/scipy/linalg/basic.py:223: RuntimeWarning: scipy.linalg.solve\n",
            "Ill-conditioned matrix detected. Result is not guaranteed to be accurate.\n",
            "Reciprocal condition number: 8.33635199916721e-17\n",
            "  ' condition number: {}'.format(rcond), RuntimeWarning)\n",
            "/usr/local/lib/python3.6/dist-packages/scipy/linalg/basic.py:223: RuntimeWarning: scipy.linalg.solve\n",
            "Ill-conditioned matrix detected. Result is not guaranteed to be accurate.\n",
            "Reciprocal condition number: 1.0952634306111329e-16\n",
            "  ' condition number: {}'.format(rcond), RuntimeWarning)\n",
            "/usr/local/lib/python3.6/dist-packages/scipy/linalg/basic.py:223: RuntimeWarning: scipy.linalg.solve\n",
            "Ill-conditioned matrix detected. Result is not guaranteed to be accurate.\n",
            "Reciprocal condition number: 8.675509462102178e-17\n",
            "  ' condition number: {}'.format(rcond), RuntimeWarning)\n",
            "/usr/local/lib/python3.6/dist-packages/scipy/linalg/basic.py:223: RuntimeWarning: scipy.linalg.solve\n",
            "Ill-conditioned matrix detected. Result is not guaranteed to be accurate.\n",
            "Reciprocal condition number: 6.991062387976998e-17\n",
            "  ' condition number: {}'.format(rcond), RuntimeWarning)\n",
            "/usr/local/lib/python3.6/dist-packages/scipy/linalg/basic.py:223: RuntimeWarning: scipy.linalg.solve\n",
            "Ill-conditioned matrix detected. Result is not guaranteed to be accurate.\n",
            "Reciprocal condition number: 3.9924257181449986e-17\n",
            "  ' condition number: {}'.format(rcond), RuntimeWarning)\n",
            "/usr/local/lib/python3.6/dist-packages/scipy/linalg/basic.py:223: RuntimeWarning: scipy.linalg.solve\n",
            "Ill-conditioned matrix detected. Result is not guaranteed to be accurate.\n",
            "Reciprocal condition number: 1.7343123267114525e-17\n",
            "  ' condition number: {}'.format(rcond), RuntimeWarning)\n",
            "/usr/local/lib/python3.6/dist-packages/scipy/linalg/basic.py:223: RuntimeWarning: scipy.linalg.solve\n",
            "Ill-conditioned matrix detected. Result is not guaranteed to be accurate.\n",
            "Reciprocal condition number: 2.322711593946423e-17\n",
            "  ' condition number: {}'.format(rcond), RuntimeWarning)\n",
            "/usr/local/lib/python3.6/dist-packages/scipy/linalg/basic.py:223: RuntimeWarning: scipy.linalg.solve\n",
            "Ill-conditioned matrix detected. Result is not guaranteed to be accurate.\n",
            "Reciprocal condition number: 1.7878823491295565e-17\n",
            "  ' condition number: {}'.format(rcond), RuntimeWarning)\n",
            "/usr/local/lib/python3.6/dist-packages/scipy/linalg/basic.py:223: RuntimeWarning: scipy.linalg.solve\n",
            "Ill-conditioned matrix detected. Result is not guaranteed to be accurate.\n",
            "Reciprocal condition number: 1.6756792195835972e-17\n",
            "  ' condition number: {}'.format(rcond), RuntimeWarning)\n",
            "/usr/local/lib/python3.6/dist-packages/scipy/linalg/basic.py:223: RuntimeWarning: scipy.linalg.solve\n",
            "Ill-conditioned matrix detected. Result is not guaranteed to be accurate.\n",
            "Reciprocal condition number: 1.0817130051106911e-16\n",
            "  ' condition number: {}'.format(rcond), RuntimeWarning)\n",
            "/usr/local/lib/python3.6/dist-packages/scipy/linalg/basic.py:223: RuntimeWarning: scipy.linalg.solve\n",
            "Ill-conditioned matrix detected. Result is not guaranteed to be accurate.\n",
            "Reciprocal condition number: 4.416784787899479e-17\n",
            "  ' condition number: {}'.format(rcond), RuntimeWarning)\n",
            "/usr/local/lib/python3.6/dist-packages/scipy/linalg/basic.py:223: RuntimeWarning: scipy.linalg.solve\n",
            "Ill-conditioned matrix detected. Result is not guaranteed to be accurate.\n",
            "Reciprocal condition number: 4.71825927158808e-17\n",
            "  ' condition number: {}'.format(rcond), RuntimeWarning)\n",
            "/usr/local/lib/python3.6/dist-packages/scipy/linalg/basic.py:223: RuntimeWarning: scipy.linalg.solve\n",
            "Ill-conditioned matrix detected. Result is not guaranteed to be accurate.\n",
            "Reciprocal condition number: 3.728909443794014e-17\n",
            "  ' condition number: {}'.format(rcond), RuntimeWarning)\n",
            "/usr/local/lib/python3.6/dist-packages/scipy/linalg/basic.py:223: RuntimeWarning: scipy.linalg.solve\n",
            "Ill-conditioned matrix detected. Result is not guaranteed to be accurate.\n",
            "Reciprocal condition number: 8.297029412475595e-17\n",
            "  ' condition number: {}'.format(rcond), RuntimeWarning)\n",
            "/usr/local/lib/python3.6/dist-packages/scipy/linalg/basic.py:223: RuntimeWarning: scipy.linalg.solve\n",
            "Ill-conditioned matrix detected. Result is not guaranteed to be accurate.\n",
            "Reciprocal condition number: 1.0827164403966394e-16\n",
            "  ' condition number: {}'.format(rcond), RuntimeWarning)\n",
            "/usr/local/lib/python3.6/dist-packages/scipy/linalg/basic.py:223: RuntimeWarning: scipy.linalg.solve\n",
            "Ill-conditioned matrix detected. Result is not guaranteed to be accurate.\n",
            "Reciprocal condition number: 8.65591798280906e-17\n",
            "  ' condition number: {}'.format(rcond), RuntimeWarning)\n",
            "/usr/local/lib/python3.6/dist-packages/scipy/linalg/basic.py:223: RuntimeWarning: scipy.linalg.solve\n",
            "Ill-conditioned matrix detected. Result is not guaranteed to be accurate.\n",
            "Reciprocal condition number: 6.923989431147466e-17\n",
            "  ' condition number: {}'.format(rcond), RuntimeWarning)\n",
            "/usr/local/lib/python3.6/dist-packages/scipy/linalg/basic.py:223: RuntimeWarning: scipy.linalg.solve\n",
            "Ill-conditioned matrix detected. Result is not guaranteed to be accurate.\n",
            "Reciprocal condition number: 4.002995378273691e-17\n",
            "  ' condition number: {}'.format(rcond), RuntimeWarning)\n",
            "/usr/local/lib/python3.6/dist-packages/scipy/linalg/basic.py:223: RuntimeWarning: scipy.linalg.solve\n",
            "Ill-conditioned matrix detected. Result is not guaranteed to be accurate.\n",
            "Reciprocal condition number: 1.7135501235793058e-17\n",
            "  ' condition number: {}'.format(rcond), RuntimeWarning)\n",
            "/usr/local/lib/python3.6/dist-packages/scipy/linalg/basic.py:223: RuntimeWarning: scipy.linalg.solve\n",
            "Ill-conditioned matrix detected. Result is not guaranteed to be accurate.\n",
            "Reciprocal condition number: 2.3154342911297397e-17\n",
            "  ' condition number: {}'.format(rcond), RuntimeWarning)\n",
            "/usr/local/lib/python3.6/dist-packages/scipy/linalg/basic.py:223: RuntimeWarning: scipy.linalg.solve\n",
            "Ill-conditioned matrix detected. Result is not guaranteed to be accurate.\n",
            "Reciprocal condition number: 1.821700383915985e-17\n",
            "  ' condition number: {}'.format(rcond), RuntimeWarning)\n",
            "/usr/local/lib/python3.6/dist-packages/scipy/linalg/basic.py:223: RuntimeWarning: scipy.linalg.solve\n",
            "Ill-conditioned matrix detected. Result is not guaranteed to be accurate.\n",
            "Reciprocal condition number: 1.6852133292359263e-17\n",
            "  ' condition number: {}'.format(rcond), RuntimeWarning)\n",
            "/usr/local/lib/python3.6/dist-packages/scipy/linalg/basic.py:223: RuntimeWarning: scipy.linalg.solve\n",
            "Ill-conditioned matrix detected. Result is not guaranteed to be accurate.\n",
            "Reciprocal condition number: 1.0839123575793553e-16\n",
            "  ' condition number: {}'.format(rcond), RuntimeWarning)\n",
            "/usr/local/lib/python3.6/dist-packages/scipy/linalg/basic.py:223: RuntimeWarning: scipy.linalg.solve\n",
            "Ill-conditioned matrix detected. Result is not guaranteed to be accurate.\n",
            "Reciprocal condition number: 4.425305516439166e-17\n",
            "  ' condition number: {}'.format(rcond), RuntimeWarning)\n",
            "/usr/local/lib/python3.6/dist-packages/scipy/linalg/basic.py:223: RuntimeWarning: scipy.linalg.solve\n",
            "Ill-conditioned matrix detected. Result is not guaranteed to be accurate.\n",
            "Reciprocal condition number: 5.952692299824518e-17\n",
            "  ' condition number: {}'.format(rcond), RuntimeWarning)\n",
            "/usr/local/lib/python3.6/dist-packages/scipy/linalg/basic.py:223: RuntimeWarning: scipy.linalg.solve\n",
            "Ill-conditioned matrix detected. Result is not guaranteed to be accurate.\n",
            "Reciprocal condition number: 4.7331937034193295e-17\n",
            "  ' condition number: {}'.format(rcond), RuntimeWarning)\n",
            "/usr/local/lib/python3.6/dist-packages/scipy/linalg/basic.py:223: RuntimeWarning: scipy.linalg.solve\n",
            "Ill-conditioned matrix detected. Result is not guaranteed to be accurate.\n",
            "Reciprocal condition number: 3.730788977650603e-17\n",
            "  ' condition number: {}'.format(rcond), RuntimeWarning)\n",
            "/usr/local/lib/python3.6/dist-packages/scipy/linalg/basic.py:223: RuntimeWarning: scipy.linalg.solve\n",
            "Ill-conditioned matrix detected. Result is not guaranteed to be accurate.\n",
            "Reciprocal condition number: 8.305908547973333e-17\n",
            "  ' condition number: {}'.format(rcond), RuntimeWarning)\n",
            "/usr/local/lib/python3.6/dist-packages/scipy/linalg/basic.py:223: RuntimeWarning: scipy.linalg.solve\n",
            "Ill-conditioned matrix detected. Result is not guaranteed to be accurate.\n",
            "Reciprocal condition number: 1.0877388819364528e-16\n",
            "  ' condition number: {}'.format(rcond), RuntimeWarning)\n",
            "/usr/local/lib/python3.6/dist-packages/scipy/linalg/basic.py:223: RuntimeWarning: scipy.linalg.solve\n",
            "Ill-conditioned matrix detected. Result is not guaranteed to be accurate.\n",
            "Reciprocal condition number: 8.659341822450008e-17\n",
            "  ' condition number: {}'.format(rcond), RuntimeWarning)\n",
            "/usr/local/lib/python3.6/dist-packages/scipy/linalg/basic.py:223: RuntimeWarning: scipy.linalg.solve\n",
            "Ill-conditioned matrix detected. Result is not guaranteed to be accurate.\n",
            "Reciprocal condition number: 6.927948187030497e-17\n",
            "  ' condition number: {}'.format(rcond), RuntimeWarning)\n",
            "/usr/local/lib/python3.6/dist-packages/scipy/linalg/basic.py:223: RuntimeWarning: scipy.linalg.solve\n",
            "Ill-conditioned matrix detected. Result is not guaranteed to be accurate.\n",
            "Reciprocal condition number: 4.0091099600416154e-17\n",
            "  ' condition number: {}'.format(rcond), RuntimeWarning)\n",
            "/usr/local/lib/python3.6/dist-packages/scipy/linalg/basic.py:223: RuntimeWarning: scipy.linalg.solve\n",
            "Ill-conditioned matrix detected. Result is not guaranteed to be accurate.\n",
            "Reciprocal condition number: 1.7265305634664094e-17\n",
            "  ' condition number: {}'.format(rcond), RuntimeWarning)\n",
            "/usr/local/lib/python3.6/dist-packages/scipy/linalg/basic.py:223: RuntimeWarning: scipy.linalg.solve\n",
            "Ill-conditioned matrix detected. Result is not guaranteed to be accurate.\n",
            "Reciprocal condition number: 2.3288245117220922e-17\n",
            "  ' condition number: {}'.format(rcond), RuntimeWarning)\n",
            "/usr/local/lib/python3.6/dist-packages/scipy/linalg/basic.py:223: RuntimeWarning: scipy.linalg.solve\n",
            "Ill-conditioned matrix detected. Result is not guaranteed to be accurate.\n",
            "Reciprocal condition number: 1.803330039985557e-17\n",
            "  ' condition number: {}'.format(rcond), RuntimeWarning)\n",
            "/usr/local/lib/python3.6/dist-packages/scipy/linalg/basic.py:223: RuntimeWarning: scipy.linalg.solve\n",
            "Ill-conditioned matrix detected. Result is not guaranteed to be accurate.\n",
            "Reciprocal condition number: 1.6771144167323486e-17\n",
            "  ' condition number: {}'.format(rcond), RuntimeWarning)\n",
            "/usr/local/lib/python3.6/dist-packages/scipy/linalg/basic.py:223: RuntimeWarning: scipy.linalg.solve\n",
            "Ill-conditioned matrix detected. Result is not guaranteed to be accurate.\n",
            "Reciprocal condition number: 1.0835334900694694e-16\n",
            "  ' condition number: {}'.format(rcond), RuntimeWarning)\n",
            "/usr/local/lib/python3.6/dist-packages/scipy/linalg/basic.py:223: RuntimeWarning: scipy.linalg.solve\n",
            "Ill-conditioned matrix detected. Result is not guaranteed to be accurate.\n",
            "Reciprocal condition number: 4.405612379046859e-17\n",
            "  ' condition number: {}'.format(rcond), RuntimeWarning)\n",
            "/usr/local/lib/python3.6/dist-packages/scipy/linalg/basic.py:223: RuntimeWarning: scipy.linalg.solve\n",
            "Ill-conditioned matrix detected. Result is not guaranteed to be accurate.\n",
            "Reciprocal condition number: 5.981715742230781e-17\n",
            "  ' condition number: {}'.format(rcond), RuntimeWarning)\n",
            "/usr/local/lib/python3.6/dist-packages/scipy/linalg/basic.py:223: RuntimeWarning: scipy.linalg.solve\n",
            "Ill-conditioned matrix detected. Result is not guaranteed to be accurate.\n",
            "Reciprocal condition number: 4.739370467882928e-17\n",
            "  ' condition number: {}'.format(rcond), RuntimeWarning)\n",
            "/usr/local/lib/python3.6/dist-packages/scipy/linalg/basic.py:223: RuntimeWarning: scipy.linalg.solve\n",
            "Ill-conditioned matrix detected. Result is not guaranteed to be accurate.\n",
            "Reciprocal condition number: 3.733168283154598e-17\n",
            "  ' condition number: {}'.format(rcond), RuntimeWarning)\n",
            "/usr/local/lib/python3.6/dist-packages/scipy/linalg/basic.py:223: RuntimeWarning: scipy.linalg.solve\n",
            "Ill-conditioned matrix detected. Result is not guaranteed to be accurate.\n",
            "Reciprocal condition number: 8.236036618466991e-17\n",
            "  ' condition number: {}'.format(rcond), RuntimeWarning)\n",
            "/usr/local/lib/python3.6/dist-packages/scipy/linalg/basic.py:223: RuntimeWarning: scipy.linalg.solve\n",
            "Ill-conditioned matrix detected. Result is not guaranteed to be accurate.\n",
            "Reciprocal condition number: 1.0918128439262209e-16\n",
            "  ' condition number: {}'.format(rcond), RuntimeWarning)\n",
            "/usr/local/lib/python3.6/dist-packages/scipy/linalg/basic.py:223: RuntimeWarning: scipy.linalg.solve\n",
            "Ill-conditioned matrix detected. Result is not guaranteed to be accurate.\n",
            "Reciprocal condition number: 8.696768329969555e-17\n",
            "  ' condition number: {}'.format(rcond), RuntimeWarning)\n",
            "/usr/local/lib/python3.6/dist-packages/scipy/linalg/basic.py:223: RuntimeWarning: scipy.linalg.solve\n",
            "Ill-conditioned matrix detected. Result is not guaranteed to be accurate.\n",
            "Reciprocal condition number: 6.957900047861744e-17\n",
            "  ' condition number: {}'.format(rcond), RuntimeWarning)\n",
            "/usr/local/lib/python3.6/dist-packages/scipy/linalg/basic.py:223: RuntimeWarning: scipy.linalg.solve\n",
            "Ill-conditioned matrix detected. Result is not guaranteed to be accurate.\n",
            "Reciprocal condition number: 4.0065135067748654e-17\n",
            "  ' condition number: {}'.format(rcond), RuntimeWarning)\n",
            "/usr/local/lib/python3.6/dist-packages/scipy/linalg/basic.py:223: RuntimeWarning: scipy.linalg.solve\n",
            "Ill-conditioned matrix detected. Result is not guaranteed to be accurate.\n",
            "Reciprocal condition number: 1.723061841589441e-17\n",
            "  ' condition number: {}'.format(rcond), RuntimeWarning)\n",
            "/usr/local/lib/python3.6/dist-packages/scipy/linalg/basic.py:223: RuntimeWarning: scipy.linalg.solve\n",
            "Ill-conditioned matrix detected. Result is not guaranteed to be accurate.\n",
            "Reciprocal condition number: 2.3422686309055138e-17\n",
            "  ' condition number: {}'.format(rcond), RuntimeWarning)\n",
            "/usr/local/lib/python3.6/dist-packages/scipy/linalg/basic.py:223: RuntimeWarning: scipy.linalg.solve\n",
            "Ill-conditioned matrix detected. Result is not guaranteed to be accurate.\n",
            "Reciprocal condition number: 1.811019698807235e-17\n",
            "  ' condition number: {}'.format(rcond), RuntimeWarning)\n",
            "/usr/local/lib/python3.6/dist-packages/scipy/linalg/basic.py:223: RuntimeWarning: scipy.linalg.solve\n",
            "Ill-conditioned matrix detected. Result is not guaranteed to be accurate.\n",
            "Reciprocal condition number: 1.6843400886178078e-17\n",
            "  ' condition number: {}'.format(rcond), RuntimeWarning)\n",
            "/usr/local/lib/python3.6/dist-packages/scipy/linalg/basic.py:223: RuntimeWarning: scipy.linalg.solve\n",
            "Ill-conditioned matrix detected. Result is not guaranteed to be accurate.\n",
            "Reciprocal condition number: 1.0853662785463385e-16\n",
            "  ' condition number: {}'.format(rcond), RuntimeWarning)\n",
            "/usr/local/lib/python3.6/dist-packages/scipy/linalg/basic.py:223: RuntimeWarning: scipy.linalg.solve\n",
            "Ill-conditioned matrix detected. Result is not guaranteed to be accurate.\n",
            "Reciprocal condition number: 4.418609168992605e-17\n",
            "  ' condition number: {}'.format(rcond), RuntimeWarning)\n",
            "/usr/local/lib/python3.6/dist-packages/scipy/linalg/basic.py:223: RuntimeWarning: scipy.linalg.solve\n",
            "Ill-conditioned matrix detected. Result is not guaranteed to be accurate.\n",
            "Reciprocal condition number: 6.01427194820029e-17\n",
            "  ' condition number: {}'.format(rcond), RuntimeWarning)\n",
            "/usr/local/lib/python3.6/dist-packages/scipy/linalg/basic.py:223: RuntimeWarning: scipy.linalg.solve\n",
            "Ill-conditioned matrix detected. Result is not guaranteed to be accurate.\n",
            "Reciprocal condition number: 4.743319818216247e-17\n",
            "  ' condition number: {}'.format(rcond), RuntimeWarning)\n",
            "/usr/local/lib/python3.6/dist-packages/scipy/linalg/basic.py:223: RuntimeWarning: scipy.linalg.solve\n",
            "Ill-conditioned matrix detected. Result is not guaranteed to be accurate.\n",
            "Reciprocal condition number: 3.7586606487667285e-17\n",
            "  ' condition number: {}'.format(rcond), RuntimeWarning)\n",
            "/usr/local/lib/python3.6/dist-packages/scipy/linalg/basic.py:223: RuntimeWarning: scipy.linalg.solve\n",
            "Ill-conditioned matrix detected. Result is not guaranteed to be accurate.\n",
            "Reciprocal condition number: 8.33635199916721e-17\n",
            "  ' condition number: {}'.format(rcond), RuntimeWarning)\n",
            "/usr/local/lib/python3.6/dist-packages/scipy/linalg/basic.py:223: RuntimeWarning: scipy.linalg.solve\n",
            "Ill-conditioned matrix detected. Result is not guaranteed to be accurate.\n",
            "Reciprocal condition number: 1.0952634306111329e-16\n",
            "  ' condition number: {}'.format(rcond), RuntimeWarning)\n",
            "/usr/local/lib/python3.6/dist-packages/scipy/linalg/basic.py:223: RuntimeWarning: scipy.linalg.solve\n",
            "Ill-conditioned matrix detected. Result is not guaranteed to be accurate.\n",
            "Reciprocal condition number: 8.675509462102178e-17\n",
            "  ' condition number: {}'.format(rcond), RuntimeWarning)\n",
            "/usr/local/lib/python3.6/dist-packages/scipy/linalg/basic.py:223: RuntimeWarning: scipy.linalg.solve\n",
            "Ill-conditioned matrix detected. Result is not guaranteed to be accurate.\n",
            "Reciprocal condition number: 6.991062387976998e-17\n",
            "  ' condition number: {}'.format(rcond), RuntimeWarning)\n",
            "[Parallel(n_jobs=1)]: Done 320 out of 320 | elapsed:  1.2min finished\n"
          ],
          "name": "stderr"
        },
        {
          "output_type": "stream",
          "text": [
            "0.12606381438100053\n",
            "{'alpha': 0.6, 'coef0': 1, 'degree': 2, 'kernel': 'linear'}\n",
            "KernelRidge(alpha=0.6, coef0=1, degree=2, gamma=None, kernel='linear',\n",
            "      kernel_params=None)\n"
          ],
          "name": "stdout"
        },
        {
          "output_type": "execute_result",
          "data": {
            "text/plain": [
              "0.12606381438100053"
            ]
          },
          "metadata": {
            "tags": []
          },
          "execution_count": 81
        }
      ]
    },
    {
      "metadata": {
        "id": "0gCJR3Mwl4Kq",
        "colab_type": "code",
        "colab": {
          "base_uri": "https://localhost:8080/",
          "height": 217
        },
        "outputId": "b6b65586-1592-45a5-9f78-eecce92765c7"
      },
      "cell_type": "code",
      "source": [
        "xr = xgb.XGBRegressor()\n",
        "# parameters = {'learning_rate': [.03, 0.05, .07], 'max_depth': [5, 6, 7]}\n",
        "parameters = { 'max_depth': [3, 5, 7], 'learning_rate': [.05, .07, .1, .12, .15], 'n_estimators': [50, 100, 150, 200], 'objective':['reg:linear'], 'gamma': [0, .01], 'min_child_weight':[1, 2] }\n",
        "cv_model_score(xr, parameters)"
      ],
      "execution_count": 0,
      "outputs": [
        {
          "output_type": "stream",
          "text": [
            "Fitting 5 folds for each of 240 candidates, totalling 1200 fits\n"
          ],
          "name": "stdout"
        },
        {
          "output_type": "stream",
          "text": [
            "[Parallel(n_jobs=1)]: Done 1200 out of 1200 | elapsed: 19.1min finished\n"
          ],
          "name": "stderr"
        },
        {
          "output_type": "stream",
          "text": [
            "0.12928894582376946\n",
            "{'gamma': 0, 'learning_rate': 0.12, 'max_depth': 3, 'min_child_weight': 2, 'n_estimators': 200, 'objective': 'reg:linear'}\n",
            "XGBRegressor(base_score=0.5, booster='gbtree', colsample_bylevel=1,\n",
            "       colsample_bytree=1, gamma=0, learning_rate=0.12, max_delta_step=0,\n",
            "       max_depth=3, min_child_weight=2, missing=None, n_estimators=200,\n",
            "       n_jobs=1, nthread=None, objective='reg:linear', random_state=0,\n",
            "       reg_alpha=0, reg_lambda=1, scale_pos_weight=1, seed=None,\n",
            "       silent=True, subsample=1)\n"
          ],
          "name": "stdout"
        },
        {
          "output_type": "execute_result",
          "data": {
            "text/plain": [
              "0.12928894582376946"
            ]
          },
          "metadata": {
            "tags": []
          },
          "execution_count": 51
        }
      ]
    },
    {
      "metadata": {
        "id": "fcFkb3vPl4RX",
        "colab_type": "code",
        "colab": {}
      },
      "cell_type": "code",
      "source": [
        ""
      ],
      "execution_count": 0,
      "outputs": []
    },
    {
      "metadata": {
        "id": "hGII4ux8lYYM",
        "colab_type": "text"
      },
      "cell_type": "markdown",
      "source": [
        "Analyzing Model Performance"
      ]
    },
    {
      "metadata": {
        "id": "Vrn1aTFVljQi",
        "colab_type": "text"
      },
      "cell_type": "markdown",
      "source": [
        "Evaluating Model Performance"
      ]
    },
    {
      "metadata": {
        "id": "kOBgpy01e2Ow",
        "colab_type": "text"
      },
      "cell_type": "markdown",
      "source": [
        "###Sensitivity Analysis"
      ]
    },
    {
      "metadata": {
        "id": "F6AKM_CGe0fv",
        "colab_type": "code",
        "colab": {
          "base_uri": "https://localhost:8080/",
          "height": 35
        },
        "outputId": "edd90eca-a1c6-412e-acf2-6d5cbde8a3a5"
      },
      "cell_type": "code",
      "source": [
        "from sklearn.linear_model import Lasso\n",
        "\n",
        "l = Lasso(alpha=0.001, copy_X=True, fit_intercept=True, max_iter=1000, normalize=False, positive=False, precompute=False, random_state=None, selection='cyclic', tol=0.001, warm_start=False)\n",
        "default_model_score(l)"
      ],
      "execution_count": 0,
      "outputs": [
        {
          "output_type": "execute_result",
          "data": {
            "text/plain": [
              "0.12164609019609376"
            ]
          },
          "metadata": {
            "tags": []
          },
          "execution_count": 52
        }
      ]
    },
    {
      "metadata": {
        "id": "3wIwQUIeocwL",
        "colab_type": "code",
        "colab": {}
      },
      "cell_type": "code",
      "source": [
        "#\n",
        "data = pd.read_csv(TRAIN_CSV)\n",
        "# data.drop('Id', axis=1, inplace=True)"
      ],
      "execution_count": 0,
      "outputs": []
    },
    {
      "metadata": {
        "id": "Ie0o4nnRodEq",
        "colab_type": "code",
        "colab": {}
      },
      "cell_type": "code",
      "source": [
        "# \n",
        "data = data.drop(data[(data['GrLivArea']>4000) & (data['SalePrice']<300000)].index)"
      ],
      "execution_count": 0,
      "outputs": []
    },
    {
      "metadata": {
        "id": "xUnBsgfjodqB",
        "colab_type": "code",
        "colab": {}
      },
      "cell_type": "code",
      "source": [
        "# Filling Missing values\n",
        "cols_to_fillna_with_none = ['PoolQC', 'MiscFeature', 'Alley', 'Fence', 'FireplaceQu', 'GarageCond', 'GarageType', 'GarageFinish', 'GarageQual', \n",
        "                            'BsmtExposure', 'BsmtFinType2', 'BsmtCond', 'BsmtQual', 'BsmtFinType1', 'MasVnrType', 'Electrical']\n",
        "cols_to_fillna_with_mean = ['LotFrontage', 'GarageYrBlt', 'MasVnrArea']\n",
        "\n",
        "for col in cols_to_fillna_with_none:\n",
        "  data[col].fillna('None', inplace=True)\n",
        "  \n",
        "for col in cols_to_fillna_with_mean:\n",
        "  data[col].fillna(data[col].mean(), inplace=True)"
      ],
      "execution_count": 0,
      "outputs": []
    },
    {
      "metadata": {
        "id": "2PeGVtxRod_n",
        "colab_type": "code",
        "colab": {}
      },
      "cell_type": "code",
      "source": [
        "# Logarithmic Transformation (여기서 target feature 도 Log Transform 됨.)\n",
        "cols_to_log_transform = cols_with_high_skewness\n",
        "\n",
        "for col in cols_to_log_transform:\n",
        "  data[col] = np.log1p(data[col])"
      ],
      "execution_count": 0,
      "outputs": []
    },
    {
      "metadata": {
        "id": "tb8SbQFoodbd",
        "colab_type": "code",
        "colab": {}
      },
      "cell_type": "code",
      "source": [
        "# Dropping columns with small correlation to target variable\n",
        "data.drop(cols_below_corr_limit, axis=1, inplace=True)"
      ],
      "execution_count": 0,
      "outputs": []
    },
    {
      "metadata": {
        "id": "VDZKZMzEodXI",
        "colab_type": "code",
        "colab": {}
      },
      "cell_type": "code",
      "source": [
        "# Getting dummy categorical features\n",
        "data = pd.get_dummies(data)"
      ],
      "execution_count": 0,
      "outputs": []
    },
    {
      "metadata": {
        "id": "GOs0X4b-ocl9",
        "colab_type": "code",
        "colab": {}
      },
      "cell_type": "code",
      "source": [
        "#\n",
        "features = data.drop('SalePrice', axis=1)\n",
        "prices = data['SalePrice']\n",
        "\n",
        "X_train, X_test, y_train, y_test = train_test_split(features, prices, test_size=0.25, random_state=42)"
      ],
      "execution_count": 0,
      "outputs": []
    },
    {
      "metadata": {
        "id": "R1WJ-WYTIAJr",
        "colab_type": "code",
        "colab": {}
      },
      "cell_type": "code",
      "source": [
        ""
      ],
      "execution_count": 0,
      "outputs": []
    },
    {
      "metadata": {
        "id": "T_fcBCKnou_e",
        "colab_type": "code",
        "colab": {
          "base_uri": "https://localhost:8080/",
          "height": 92
        },
        "outputId": "4ba4cf1f-3b0e-4269-8fde-ed7870867b91"
      },
      "cell_type": "code",
      "source": [
        "l = Lasso(alpha=0.001, copy_X=True, fit_intercept=True, max_iter=1000, normalize=False, positive=False, precompute=False, random_state=None, selection='cyclic', tol=0.001, warm_start=False)\n",
        "default_model_score(l)"
      ],
      "execution_count": 0,
      "outputs": [
        {
          "output_type": "stream",
          "text": [
            "/usr/local/lib/python3.6/dist-packages/sklearn/linear_model/coordinate_descent.py:491: ConvergenceWarning: Objective did not converge. You might want to increase the number of iterations. Fitting data with very small alpha may cause precision problems.\n",
            "  ConvergenceWarning)\n"
          ],
          "name": "stderr"
        },
        {
          "output_type": "execute_result",
          "data": {
            "text/plain": [
              "28592.944043366973"
            ]
          },
          "metadata": {
            "tags": []
          },
          "execution_count": 165
        }
      ]
    },
    {
      "metadata": {
        "id": "r4olrnBwGqOA",
        "colab_type": "text"
      },
      "cell_type": "markdown",
      "source": [
        "###Free-Form Visualization for Conclusion"
      ]
    },
    {
      "metadata": {
        "id": "nl_W9RDNL5R5",
        "colab_type": "code",
        "colab": {
          "base_uri": "https://localhost:8080/",
          "height": 296
        },
        "outputId": "2935a76a-1976-44a0-f542-649defba372e"
      },
      "cell_type": "code",
      "source": [
        "# Benchmark Model\n",
        "regressor = LinearRegression()\n",
        "regressor.fit(X_train, y_train)\n",
        "y_pred = regressor.predict(X_test)\n",
        "\n",
        "fig, ax = plt.subplots()\n",
        "ax.scatter(x = X_test['Id'], y = y_test, s=12, c='b', label='y_test')\n",
        "ax.scatter(x = X_test['Id'], y = y_pred, s=12, c='r', label='y_pred')\n",
        "plt.legend(loc='upper left')\n",
        "plt.xlabel('Id', fontsize=13)\n",
        "plt.ylabel('SalePrice_log', fontsize=13)\n",
        "plt.title('Benchmark Model')\n",
        "plt.show()"
      ],
      "execution_count": 0,
      "outputs": [
        {
          "output_type": "display_data",
          "data": {
            "image/png": "[encoded data removed]",
            "text/plain": [
              "<matplotlib.figure.Figure at 0x7f60778c8588>"
            ]
          },
          "metadata": {
            "tags": []
          }
        }
      ]
    },
    {
      "metadata": {
        "id": "IFxuZdBXJluK",
        "colab_type": "code",
        "colab": {
          "base_uri": "https://localhost:8080/",
          "height": 296
        },
        "outputId": "ad7313f6-3996-4b7d-d8e2-00c6b7f2cc4f"
      },
      "cell_type": "code",
      "source": [
        "# Final Model\n",
        "regressor = Lasso(alpha=0.001, copy_X=True, fit_intercept=True, max_iter=1000, normalize=False, positive=False, precompute=False, random_state=None, selection='cyclic', tol=0.001, warm_start=False)\n",
        "regressor.fit(X_train, y_train)\n",
        "y_pred = regressor.predict(X_test)\n",
        "\n",
        "fig, ax = plt.subplots()\n",
        "ax.scatter(x = X_test['Id'], y = y_test, s=12, c='b', label='y_test')\n",
        "ax.scatter(x = X_test['Id'], y = y_pred, s=12, c='r', label='y_pred')\n",
        "plt.legend(loc='upper left')\n",
        "plt.xlabel('Id', fontsize=13)\n",
        "plt.ylabel('SalePrice_log', fontsize=13)\n",
        "plt.title('Final Model')\n",
        "plt.show()"
      ],
      "execution_count": 0,
      "outputs": [
        {
          "output_type": "display_data",
          "data": {
            "image/png": "[encoded data removed]",
            "text/plain": [
              "<matplotlib.figure.Figure at 0x7f60776bad30>"
            ]
          },
          "metadata": {
            "tags": []
          }
        }
      ]
    },
    {
      "metadata": {
        "id": "lIgYPXJVGxL_",
        "colab_type": "code",
        "colab": {}
      },
      "cell_type": "code",
      "source": [
        "lr = LinearRegression()\n",
        "\n",
        "fig, ax = plt.subplots()\n",
        "ax.scatter(x = X_test['Id'], y = y_test, s=12, c='b', label='y_test')\n",
        "ax.scatter(x = X_test['Id'], y = y_pred, s=12, c='r', label='y_pred')\n",
        "plt.legend(loc='upper left')\n",
        "plt.xlabel('Id', fontsize=13)\n",
        "plt.ylabel('SalePrice_log', fontsize=13)\n",
        "plt.title('Final Model')\n",
        "plt.show()"
      ],
      "execution_count": 0,
      "outputs": []
    },
    {
      "metadata": {
        "id": "EXXf3j_UJbTD",
        "colab_type": "code",
        "colab": {}
      },
      "cell_type": "code",
      "source": [
        ""
      ],
      "execution_count": 0,
      "outputs": []
    },
    {
      "metadata": {
        "id": "-2ScQzAsJbxB",
        "colab_type": "code",
        "colab": {}
      },
      "cell_type": "code",
      "source": [
        ""
      ],
      "execution_count": 0,
      "outputs": []
    },
    {
      "metadata": {
        "id": "1RzQ6mMzJblb",
        "colab_type": "code",
        "colab": {}
      },
      "cell_type": "code",
      "source": [
        ""
      ],
      "execution_count": 0,
      "outputs": []
    },
    {
      "metadata": {
        "id": "wxQxNf6bGxdk",
        "colab_type": "code",
        "colab": {}
      },
      "cell_type": "code",
      "source": [
        ""
      ],
      "execution_count": 0,
      "outputs": []
    },
    {
      "metadata": {
        "id": "cDXbs1kmZ8qI",
        "colab_type": "text"
      },
      "cell_type": "markdown",
      "source": [
        "Ref)\n",
        "https://www.kaggle.com/dejavu23/house-prices-eda-to-ml-beginner <br>\n",
        "https://www.kaggle.com/serigne/stacked-regressions-top-4-on-leaderboard <br>\n",
        "https://www.kaggle.com/dgawlik/house-prices-eda (자세히 읽진 않았지만 좋아보임.) <br>\n",
        "\n"
      ]
    },
    {
      "metadata": {
        "id": "Q2qaWIOs0smD",
        "colab_type": "code",
        "colab": {}
      },
      "cell_type": "code",
      "source": [
        ""
      ],
      "execution_count": 0,
      "outputs": []
    }
  ]
}